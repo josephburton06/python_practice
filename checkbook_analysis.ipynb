{
 "cells": [
  {
   "cell_type": "code",
   "execution_count": 83,
   "metadata": {},
   "outputs": [],
   "source": [
    "import warnings\n",
    "warnings.filterwarnings(\"ignore\")\n",
    "\n",
    "import pandas as pd\n",
    "import numpy as np \n",
    "\n",
    "import matplotlib.pyplot as plt\n",
    "import seaborn as sns\n",
    "\n",
    "import random\n",
    "import datetime as dt\n",
    "import radar"
   ]
  },
  {
   "cell_type": "markdown",
   "metadata": {},
   "source": [
    "## This notebook will be used to show insights into this person's spending habits."
   ]
  },
  {
   "cell_type": "code",
   "execution_count": 51,
   "metadata": {},
   "outputs": [
    {
     "data": {
      "text/html": [
       "<div>\n",
       "<style scoped>\n",
       "    .dataframe tbody tr th:only-of-type {\n",
       "        vertical-align: middle;\n",
       "    }\n",
       "\n",
       "    .dataframe tbody tr th {\n",
       "        vertical-align: top;\n",
       "    }\n",
       "\n",
       "    .dataframe thead th {\n",
       "        text-align: right;\n",
       "    }\n",
       "</style>\n",
       "<table border=\"1\" class=\"dataframe\">\n",
       "  <thead>\n",
       "    <tr style=\"text-align: right;\">\n",
       "      <th></th>\n",
       "      <th>transaction_type</th>\n",
       "      <th>transaction_type_desc</th>\n",
       "      <th>transaction_amount</th>\n",
       "      <th>date</th>\n",
       "      <th>time</th>\n",
       "    </tr>\n",
       "  </thead>\n",
       "  <tbody>\n",
       "    <tr>\n",
       "      <th>0</th>\n",
       "      <td>3</td>\n",
       "      <td>Lunch</td>\n",
       "      <td>-5.34</td>\n",
       "      <td>2016-01-01</td>\n",
       "      <td>11:40:47</td>\n",
       "    </tr>\n",
       "    <tr>\n",
       "      <th>1</th>\n",
       "      <td>5</td>\n",
       "      <td>Groceries</td>\n",
       "      <td>-55.93</td>\n",
       "      <td>2016-01-01</td>\n",
       "      <td>18:18:52</td>\n",
       "    </tr>\n",
       "    <tr>\n",
       "      <th>2</th>\n",
       "      <td>4</td>\n",
       "      <td>Dinner</td>\n",
       "      <td>-16.90</td>\n",
       "      <td>2016-01-02</td>\n",
       "      <td>19:10:45</td>\n",
       "    </tr>\n",
       "    <tr>\n",
       "      <th>3</th>\n",
       "      <td>4</td>\n",
       "      <td>Dinner</td>\n",
       "      <td>-16.88</td>\n",
       "      <td>2016-01-02</td>\n",
       "      <td>19:53:51</td>\n",
       "    </tr>\n",
       "    <tr>\n",
       "      <th>4</th>\n",
       "      <td>5</td>\n",
       "      <td>Groceries</td>\n",
       "      <td>-114.85</td>\n",
       "      <td>2016-01-03</td>\n",
       "      <td>17:42:01</td>\n",
       "    </tr>\n",
       "  </tbody>\n",
       "</table>\n",
       "</div>"
      ],
      "text/plain": [
       "   transaction_type transaction_type_desc  transaction_amount        date  \\\n",
       "0                 3                 Lunch               -5.34  2016-01-01   \n",
       "1                 5             Groceries              -55.93  2016-01-01   \n",
       "2                 4                Dinner              -16.90  2016-01-02   \n",
       "3                 4                Dinner              -16.88  2016-01-02   \n",
       "4                 5             Groceries             -114.85  2016-01-03   \n",
       "\n",
       "       time  \n",
       "0  11:40:47  \n",
       "1  18:18:52  \n",
       "2  19:10:45  \n",
       "3  19:53:51  \n",
       "4  17:42:01  "
      ]
     },
     "execution_count": 51,
     "metadata": {},
     "output_type": "execute_result"
    }
   ],
   "source": [
    "df_orig = pd.read_csv('checkbook.csv')\n",
    "df = df_orig.copy()\n",
    "df.head()"
   ]
  },
  {
   "cell_type": "markdown",
   "metadata": {},
   "source": [
    "### First, let's create columns for year, month, and day.  This will make things easier when grouping."
   ]
  },
  {
   "cell_type": "code",
   "execution_count": 52,
   "metadata": {},
   "outputs": [
    {
     "data": {
      "text/html": [
       "<div>\n",
       "<style scoped>\n",
       "    .dataframe tbody tr th:only-of-type {\n",
       "        vertical-align: middle;\n",
       "    }\n",
       "\n",
       "    .dataframe tbody tr th {\n",
       "        vertical-align: top;\n",
       "    }\n",
       "\n",
       "    .dataframe thead th {\n",
       "        text-align: right;\n",
       "    }\n",
       "</style>\n",
       "<table border=\"1\" class=\"dataframe\">\n",
       "  <thead>\n",
       "    <tr style=\"text-align: right;\">\n",
       "      <th></th>\n",
       "      <th>transaction_type</th>\n",
       "      <th>transaction_type_desc</th>\n",
       "      <th>transaction_amount</th>\n",
       "      <th>date</th>\n",
       "      <th>time</th>\n",
       "      <th>year</th>\n",
       "      <th>month</th>\n",
       "      <th>day_of_month</th>\n",
       "    </tr>\n",
       "  </thead>\n",
       "  <tbody>\n",
       "    <tr>\n",
       "      <th>0</th>\n",
       "      <td>3</td>\n",
       "      <td>Lunch</td>\n",
       "      <td>-5.34</td>\n",
       "      <td>2016-01-01</td>\n",
       "      <td>11:40:47</td>\n",
       "      <td>2016</td>\n",
       "      <td>1</td>\n",
       "      <td>1</td>\n",
       "    </tr>\n",
       "    <tr>\n",
       "      <th>1</th>\n",
       "      <td>5</td>\n",
       "      <td>Groceries</td>\n",
       "      <td>-55.93</td>\n",
       "      <td>2016-01-01</td>\n",
       "      <td>18:18:52</td>\n",
       "      <td>2016</td>\n",
       "      <td>1</td>\n",
       "      <td>1</td>\n",
       "    </tr>\n",
       "    <tr>\n",
       "      <th>2</th>\n",
       "      <td>4</td>\n",
       "      <td>Dinner</td>\n",
       "      <td>-16.90</td>\n",
       "      <td>2016-01-02</td>\n",
       "      <td>19:10:45</td>\n",
       "      <td>2016</td>\n",
       "      <td>1</td>\n",
       "      <td>2</td>\n",
       "    </tr>\n",
       "    <tr>\n",
       "      <th>3</th>\n",
       "      <td>4</td>\n",
       "      <td>Dinner</td>\n",
       "      <td>-16.88</td>\n",
       "      <td>2016-01-02</td>\n",
       "      <td>19:53:51</td>\n",
       "      <td>2016</td>\n",
       "      <td>1</td>\n",
       "      <td>2</td>\n",
       "    </tr>\n",
       "    <tr>\n",
       "      <th>4</th>\n",
       "      <td>5</td>\n",
       "      <td>Groceries</td>\n",
       "      <td>-114.85</td>\n",
       "      <td>2016-01-03</td>\n",
       "      <td>17:42:01</td>\n",
       "      <td>2016</td>\n",
       "      <td>1</td>\n",
       "      <td>3</td>\n",
       "    </tr>\n",
       "  </tbody>\n",
       "</table>\n",
       "</div>"
      ],
      "text/plain": [
       "   transaction_type transaction_type_desc  transaction_amount        date  \\\n",
       "0                 3                 Lunch               -5.34  2016-01-01   \n",
       "1                 5             Groceries              -55.93  2016-01-01   \n",
       "2                 4                Dinner              -16.90  2016-01-02   \n",
       "3                 4                Dinner              -16.88  2016-01-02   \n",
       "4                 5             Groceries             -114.85  2016-01-03   \n",
       "\n",
       "       time  year  month  day_of_month  \n",
       "0  11:40:47  2016      1             1  \n",
       "1  18:18:52  2016      1             1  \n",
       "2  19:10:45  2016      1             2  \n",
       "3  19:53:51  2016      1             2  \n",
       "4  17:42:01  2016      1             3  "
      ]
     },
     "execution_count": 52,
     "metadata": {},
     "output_type": "execute_result"
    }
   ],
   "source": [
    "df[['year','month','day_of_month']] = df.date.apply(lambda x: pd.Series(str(x).split('-'))).astype(int)\n",
    "df.head()"
   ]
  },
  {
   "cell_type": "code",
   "execution_count": 59,
   "metadata": {},
   "outputs": [
    {
     "data": {
      "text/html": [
       "<div>\n",
       "<style scoped>\n",
       "    .dataframe tbody tr th:only-of-type {\n",
       "        vertical-align: middle;\n",
       "    }\n",
       "\n",
       "    .dataframe tbody tr th {\n",
       "        vertical-align: top;\n",
       "    }\n",
       "\n",
       "    .dataframe thead th {\n",
       "        text-align: right;\n",
       "    }\n",
       "</style>\n",
       "<table border=\"1\" class=\"dataframe\">\n",
       "  <thead>\n",
       "    <tr style=\"text-align: right;\">\n",
       "      <th></th>\n",
       "      <th>transaction_type</th>\n",
       "      <th>transaction_type_desc</th>\n",
       "      <th>transaction_amount</th>\n",
       "      <th>date</th>\n",
       "      <th>time</th>\n",
       "      <th>year</th>\n",
       "      <th>month</th>\n",
       "      <th>day_of_month</th>\n",
       "      <th>day_of_week</th>\n",
       "      <th>is_weekend</th>\n",
       "    </tr>\n",
       "  </thead>\n",
       "  <tbody>\n",
       "    <tr>\n",
       "      <th>2232</th>\n",
       "      <td>4</td>\n",
       "      <td>Dinner</td>\n",
       "      <td>-20.48</td>\n",
       "      <td>2020-03-08</td>\n",
       "      <td>19:54:32</td>\n",
       "      <td>2020</td>\n",
       "      <td>3</td>\n",
       "      <td>8</td>\n",
       "      <td>1</td>\n",
       "      <td>1</td>\n",
       "    </tr>\n",
       "    <tr>\n",
       "      <th>2233</th>\n",
       "      <td>3</td>\n",
       "      <td>Lunch</td>\n",
       "      <td>-10.03</td>\n",
       "      <td>2020-03-10</td>\n",
       "      <td>13:00:09</td>\n",
       "      <td>2020</td>\n",
       "      <td>3</td>\n",
       "      <td>10</td>\n",
       "      <td>3</td>\n",
       "      <td>0</td>\n",
       "    </tr>\n",
       "    <tr>\n",
       "      <th>2234</th>\n",
       "      <td>4</td>\n",
       "      <td>Dinner</td>\n",
       "      <td>-20.60</td>\n",
       "      <td>2020-03-10</td>\n",
       "      <td>19:18:58</td>\n",
       "      <td>2020</td>\n",
       "      <td>3</td>\n",
       "      <td>10</td>\n",
       "      <td>3</td>\n",
       "      <td>0</td>\n",
       "    </tr>\n",
       "    <tr>\n",
       "      <th>2235</th>\n",
       "      <td>5</td>\n",
       "      <td>Groceries</td>\n",
       "      <td>-77.61</td>\n",
       "      <td>2020-03-11</td>\n",
       "      <td>19:30:29</td>\n",
       "      <td>2020</td>\n",
       "      <td>3</td>\n",
       "      <td>11</td>\n",
       "      <td>4</td>\n",
       "      <td>0</td>\n",
       "    </tr>\n",
       "    <tr>\n",
       "      <th>2236</th>\n",
       "      <td>6</td>\n",
       "      <td>Gas</td>\n",
       "      <td>-23.01</td>\n",
       "      <td>2020-03-12</td>\n",
       "      <td>19:39:34</td>\n",
       "      <td>2020</td>\n",
       "      <td>3</td>\n",
       "      <td>12</td>\n",
       "      <td>5</td>\n",
       "      <td>0</td>\n",
       "    </tr>\n",
       "  </tbody>\n",
       "</table>\n",
       "</div>"
      ],
      "text/plain": [
       "      transaction_type transaction_type_desc  transaction_amount       date  \\\n",
       "2232                 4                Dinner              -20.48 2020-03-08   \n",
       "2233                 3                 Lunch              -10.03 2020-03-10   \n",
       "2234                 4                Dinner              -20.60 2020-03-10   \n",
       "2235                 5             Groceries              -77.61 2020-03-11   \n",
       "2236                 6                   Gas              -23.01 2020-03-12   \n",
       "\n",
       "          time  year  month  day_of_month  day_of_week  is_weekend  \n",
       "2232  19:54:32  2020      3             8            1           1  \n",
       "2233  13:00:09  2020      3            10            3           0  \n",
       "2234  19:18:58  2020      3            10            3           0  \n",
       "2235  19:30:29  2020      3            11            4           0  \n",
       "2236  19:39:34  2020      3            12            5           0  "
      ]
     },
     "execution_count": 59,
     "metadata": {},
     "output_type": "execute_result"
    }
   ],
   "source": [
    "# Convert date column to datetime type\n",
    "df['date'] = pd.to_datetime(df['date'])\n",
    "\n",
    "# Create a day of week column.  The weekday function turns Mondays into 0 and Sunday into 6.  \n",
    "# We'll change those in the following line so Sunday is 1 and Saturday is 7.\n",
    "df['day_of_week'] = df['date'].apply(lambda x: x.weekday())\n",
    "df['day_of_week'].replace({0:2, 1:3, 2:4, 3:5, 4:6, 5:7, 6:1} ,inplace=True)\n",
    "\n",
    "#Create a column that will be a flag for whether or not a row is a weekend.\n",
    "df['is_weekend'] = [1 if x in (1,7) else 0 for x in df['day_of_week']]\n",
    "df.tail()"
   ]
  },
  {
   "cell_type": "code",
   "execution_count": null,
   "metadata": {},
   "outputs": [],
   "source": []
  },
  {
   "cell_type": "markdown",
   "metadata": {},
   "source": [
    "## A quick view at where money was spend by category by year.  2020 is a partial year.  We can always try something that gives an average per day later."
   ]
  },
  {
   "cell_type": "code",
   "execution_count": 66,
   "metadata": {},
   "outputs": [
    {
     "data": {
      "text/html": [
       "<div>\n",
       "<style scoped>\n",
       "    .dataframe tbody tr th:only-of-type {\n",
       "        vertical-align: middle;\n",
       "    }\n",
       "\n",
       "    .dataframe tbody tr th {\n",
       "        vertical-align: top;\n",
       "    }\n",
       "\n",
       "    .dataframe thead tr th {\n",
       "        text-align: left;\n",
       "    }\n",
       "</style>\n",
       "<table border=\"1\" class=\"dataframe\">\n",
       "  <thead>\n",
       "    <tr>\n",
       "      <th></th>\n",
       "      <th>year</th>\n",
       "      <th colspan=\"6\" halign=\"left\">sum</th>\n",
       "    </tr>\n",
       "    <tr>\n",
       "      <th>transaction_type_desc</th>\n",
       "      <th></th>\n",
       "      <th>ATM Withdrawal</th>\n",
       "      <th>Deposit</th>\n",
       "      <th>Dinner</th>\n",
       "      <th>Gas</th>\n",
       "      <th>Groceries</th>\n",
       "      <th>Lunch</th>\n",
       "    </tr>\n",
       "  </thead>\n",
       "  <tbody>\n",
       "    <tr>\n",
       "      <th>0</th>\n",
       "      <td>2016</td>\n",
       "      <td>-12360.0</td>\n",
       "      <td>32140.59</td>\n",
       "      <td>-1800.78</td>\n",
       "      <td>-1964.02</td>\n",
       "      <td>-9002.91</td>\n",
       "      <td>-1120.76</td>\n",
       "    </tr>\n",
       "    <tr>\n",
       "      <th>1</th>\n",
       "      <td>2017</td>\n",
       "      <td>-19500.0</td>\n",
       "      <td>27089.29</td>\n",
       "      <td>-1650.10</td>\n",
       "      <td>-1975.45</td>\n",
       "      <td>-6319.62</td>\n",
       "      <td>-1304.71</td>\n",
       "    </tr>\n",
       "    <tr>\n",
       "      <th>2</th>\n",
       "      <td>2018</td>\n",
       "      <td>-14680.0</td>\n",
       "      <td>30342.62</td>\n",
       "      <td>-1746.42</td>\n",
       "      <td>-1968.61</td>\n",
       "      <td>-8095.09</td>\n",
       "      <td>-1059.10</td>\n",
       "    </tr>\n",
       "    <tr>\n",
       "      <th>3</th>\n",
       "      <td>2019</td>\n",
       "      <td>-18180.0</td>\n",
       "      <td>25117.80</td>\n",
       "      <td>-1835.85</td>\n",
       "      <td>-1774.03</td>\n",
       "      <td>-5995.02</td>\n",
       "      <td>-1158.19</td>\n",
       "    </tr>\n",
       "    <tr>\n",
       "      <th>4</th>\n",
       "      <td>2020</td>\n",
       "      <td>-1480.0</td>\n",
       "      <td>8313.56</td>\n",
       "      <td>-299.15</td>\n",
       "      <td>-618.92</td>\n",
       "      <td>-1342.86</td>\n",
       "      <td>-208.15</td>\n",
       "    </tr>\n",
       "  </tbody>\n",
       "</table>\n",
       "</div>"
      ],
      "text/plain": [
       "                       year            sum                              \\\n",
       "transaction_type_desc       ATM Withdrawal   Deposit   Dinner      Gas   \n",
       "0                      2016       -12360.0  32140.59 -1800.78 -1964.02   \n",
       "1                      2017       -19500.0  27089.29 -1650.10 -1975.45   \n",
       "2                      2018       -14680.0  30342.62 -1746.42 -1968.61   \n",
       "3                      2019       -18180.0  25117.80 -1835.85 -1774.03   \n",
       "4                      2020        -1480.0   8313.56  -299.15  -618.92   \n",
       "\n",
       "                                          \n",
       "transaction_type_desc Groceries    Lunch  \n",
       "0                      -9002.91 -1120.76  \n",
       "1                      -6319.62 -1304.71  \n",
       "2                      -8095.09 -1059.10  \n",
       "3                      -5995.02 -1158.19  \n",
       "4                      -1342.86  -208.15  "
      ]
     },
     "execution_count": 66,
     "metadata": {},
     "output_type": "execute_result"
    }
   ],
   "source": [
    "pd.pivot_table(df, values='transaction_amount', index=['year'], columns=['transaction_type_desc'], aggfunc=['sum']).reset_index()"
   ]
  },
  {
   "cell_type": "code",
   "execution_count": 67,
   "metadata": {},
   "outputs": [],
   "source": [
    "gas_year_month = pd.pivot_table(df[(df.transaction_type_desc == 'Gas') & (df.year < 2020)], values='transaction_amount', index=['year', 'month'], aggfunc='sum').reset_index()"
   ]
  },
  {
   "cell_type": "code",
   "execution_count": 70,
   "metadata": {},
   "outputs": [
    {
     "data": {
      "text/plain": [
       "[<matplotlib.lines.Line2D at 0x1a174b2978>]"
      ]
     },
     "execution_count": 70,
     "metadata": {},
     "output_type": "execute_result"
    },
    {
     "data": {
      "image/png": "[encoded data removed]",
      "text/plain": [
       "<Figure size 432x288 with 1 Axes>"
      ]
     },
     "metadata": {
      "needs_background": "light"
     },
     "output_type": "display_data"
    }
   ],
   "source": [
    "plt.plot(gas_year_month.transaction_amount[gas_year_month.year==2016])"
   ]
  },
  {
   "cell_type": "code",
   "execution_count": 94,
   "metadata": {},
   "outputs": [],
   "source": [
    "prev_years_gas = df[(df.transaction_type_desc == 'Gas')]\n",
    "prev_years_gas['transaction_amount'] = prev_years_gas['transaction_amount'].abs()"
   ]
  },
  {
   "cell_type": "markdown",
   "metadata": {},
   "source": [
    "## Gas expenses by month with multiple lines to show each year."
   ]
  },
  {
   "cell_type": "code",
   "execution_count": 99,
   "metadata": {},
   "outputs": [
    {
     "data": {
      "text/plain": [
       "<matplotlib.legend.Legend at 0x112abbeb8>"
      ]
     },
     "execution_count": 99,
     "metadata": {},
     "output_type": "execute_result"
    },
    {
     "data": {
      "image/png": "[encoded data removed]",
      "text/plain": [
       "<Figure size 432x288 with 1 Axes>"
      ]
     },
     "metadata": {
      "needs_background": "light"
     },
     "output_type": "display_data"
    }
   ],
   "source": [
    "ax = plt.subplot(111)\n",
    "for year in list(prev_years_gas.year.unique()):\n",
    "    plt.plot(prev_years_gas[['month','transaction_amount']][prev_years_gas.year == year].groupby('month').sum(), label=str(year) + ' Gas')\n",
    "ax.legend(bbox_to_anchor=(1.1, 1.05))"
   ]
  },
  {
   "cell_type": "code",
   "execution_count": 97,
   "metadata": {},
   "outputs": [
    {
     "data": {
      "text/plain": [
       "transaction_amount    25.0\n",
       "dtype: float64"
      ]
     },
     "execution_count": 97,
     "metadata": {},
     "output_type": "execute_result"
    }
   ],
   "source": [
    "# December 2019 is really low, let's check the actual dollar amount.  Wow, only $25 for gas in a month!\n",
    "prev_years_gas[['transaction_amount']][(prev_years_gas.year==2019) & (prev_years_gas.month==12)].sum()"
   ]
  },
  {
   "cell_type": "code",
   "execution_count": null,
   "metadata": {},
   "outputs": [],
   "source": []
  }
 ],
 "metadata": {
  "kernelspec": {
   "display_name": "Python 3",
   "language": "python",
   "name": "python3"
  },
  "language_info": {
   "codemirror_mode": {
    "name": "ipython",
    "version": 3
   },
   "file_extension": ".py",
   "mimetype": "text/x-python",
   "name": "python",
   "nbconvert_exporter": "python",
   "pygments_lexer": "ipython3",
   "version": "3.7.1"
  }
 },
 "nbformat": 4,
 "nbformat_minor": 2
}
