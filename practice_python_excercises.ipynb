{
 "cells": [
  {
   "cell_type": "code",
   "execution_count": 1,
   "metadata": {},
   "outputs": [],
   "source": [
    "import warnings\n",
    "warnings.filterwarnings(\"ignore\")\n",
    "\n",
    "import pandas as pd\n",
    "import numpy as np\n",
    "\n",
    "import matplotlib.pyplot as plt\n",
    "import seaborn as sns\n",
    "\n",
    "from datetime import date"
   ]
  },
  {
   "cell_type": "markdown",
   "metadata": {},
   "source": [
    "When squirrels get together for a party, they like to have cigars. A squirrel party is successful when the number of cigars is between 40 and 60, inclusive. Unless it is the weekend, in which case there is no upper bound on the number of cigars. Return True if the party with the given values is successful, or False otherwise."
   ]
  },
  {
   "cell_type": "code",
   "execution_count": 2,
   "metadata": {},
   "outputs": [],
   "source": [
    "def cigar_party(cigars, is_weekend):\n",
    "  if is_weekend & (cigars >= 40):\n",
    "    return True\n",
    "  elif (is_weekend == False) & (40 <= cigars <= 60):\n",
    "    return True\n",
    "  else:\n",
    "    return False"
   ]
  },
  {
   "cell_type": "code",
   "execution_count": 3,
   "metadata": {},
   "outputs": [
    {
     "name": "stdout",
     "output_type": "stream",
     "text": [
      "False\n",
      "True\n",
      "True\n"
     ]
    }
   ],
   "source": [
    "print(cigar_party(30, False))\n",
    "print(cigar_party(70, True))\n",
    "print(cigar_party(40, True))"
   ]
  },
  {
   "cell_type": "markdown",
   "metadata": {},
   "source": [
    "You and your date are trying to get a table at a restaurant. The parameter \"you\" is the stylishness of your clothes, in the range 0..10, and \"date\" is the stylishness of your date's clothes. The result getting the table is encoded as an int value with 0=no, 1=maybe, 2=yes. If either of you is very stylish, 8 or more, then the result is 2 (yes). With the exception that if either of you has style of 2 or less, then the result is 0 (no). Otherwise the result is 1 (maybe).\n",
    "\n",
    "Thoughts:\n",
    "\n",
    "For this, it's important to note that since there is an exception on the first statement of either being 8 or more, that this be reflected in the logic.  Since there are no exceptions on the rule of either party being equal to or less than 2 resulting in a 0, this will be put in first."
   ]
  },
  {
   "cell_type": "code",
   "execution_count": 4,
   "metadata": {},
   "outputs": [],
   "source": [
    "def date_fashion(you, date):\n",
    "  if (you <= 2) | (date <= 2):\n",
    "    return 0\n",
    "  elif (you >=8) | ( date >= 8):\n",
    "    return 2\n",
    "  else:\n",
    "    return 1"
   ]
  },
  {
   "cell_type": "code",
   "execution_count": 5,
   "metadata": {},
   "outputs": [
    {
     "name": "stdout",
     "output_type": "stream",
     "text": [
      "2\n",
      "1\n",
      "0\n"
     ]
    }
   ],
   "source": [
    "print(date_fashion(5, 10))\n",
    "print(date_fashion(5, 5))\n",
    "print(date_fashion(10, 2))"
   ]
  },
  {
   "cell_type": "markdown",
   "metadata": {},
   "source": [
    "Given a string of even length, return the first half. So the string \"WooHoo\" yields \"Woo\".\n",
    "\n",
    "The assumption for this problem is that each string entered will have a length divisible by 2."
   ]
  },
  {
   "cell_type": "code",
   "execution_count": 6,
   "metadata": {},
   "outputs": [],
   "source": [
    "def first_half(str):\n",
    "    half = int(len(str)/2)\n",
    "    return str[:half]"
   ]
  },
  {
   "cell_type": "markdown",
   "metadata": {},
   "source": [
    "print(first_half('WooHoo'))\n",
    "print(first_half('abcdef'))\n",
    "print(first_half('0123456789'))"
   ]
  },
  {
   "cell_type": "markdown",
   "metadata": {},
   "source": [
    "Given a string, return a version without the first and last char, so \"Hello\" yields \"ell\". The string length will be at least 2."
   ]
  },
  {
   "cell_type": "code",
   "execution_count": 7,
   "metadata": {},
   "outputs": [],
   "source": [
    "def without_end(str):\n",
    "  return str[1:-1]"
   ]
  },
  {
   "cell_type": "code",
   "execution_count": 8,
   "metadata": {},
   "outputs": [
    {
     "name": "stdout",
     "output_type": "stream",
     "text": [
      "ell\n",
      "odin\n",
      "\n"
     ]
    }
   ],
   "source": [
    "print(without_end('Hello'))\n",
    "print(without_end('coding'))\n",
    "print(without_end('ab'))"
   ]
  },
  {
   "cell_type": "markdown",
   "metadata": {},
   "source": [
    "Given 2 strings, a and b, return a string of the form short+long+short, with the shorter string on the outside and the longer string on the inside. The strings will not be the same length, but they may be empty (length 0)."
   ]
  },
  {
   "cell_type": "code",
   "execution_count": 9,
   "metadata": {},
   "outputs": [],
   "source": [
    "def combo_string(a, b):\n",
    "  a_len = len(a)\n",
    "  b_len = len(b)\n",
    "  if a_len < b_len:\n",
    "    return a + b + a\n",
    "  else:\n",
    "    return b + a + b"
   ]
  },
  {
   "cell_type": "code",
   "execution_count": 10,
   "metadata": {},
   "outputs": [
    {
     "name": "stdout",
     "output_type": "stream",
     "text": [
      "hiHellohi\n",
      "baaab\n",
      "abxyzab\n"
     ]
    }
   ],
   "source": [
    "print(combo_string('Hello', 'hi'))\n",
    "print(combo_string('b', 'aaa'))\n",
    "print(combo_string('xyz', 'ab'))"
   ]
  },
  {
   "cell_type": "markdown",
   "metadata": {},
   "source": [
    "Given 3 int values, a b c, return their sum. However, if one of the values is 13 then it does not count towards the sum and values to its right do not count. So for example, if b is 13, then both b and c do not count."
   ]
  },
  {
   "cell_type": "code",
   "execution_count": 11,
   "metadata": {},
   "outputs": [],
   "source": [
    "def lucky_sum(a, b, c):\n",
    "  if a == 13:\n",
    "    return 0\n",
    "  elif b == 13:\n",
    "    return a\n",
    "  elif c == 13:\n",
    "    return a + b\n",
    "  else:\n",
    "    return a + b + c"
   ]
  },
  {
   "cell_type": "code",
   "execution_count": 12,
   "metadata": {},
   "outputs": [
    {
     "name": "stdout",
     "output_type": "stream",
     "text": [
      "3\n",
      "1\n",
      "0\n"
     ]
    }
   ],
   "source": [
    "print(lucky_sum(1, 2, 13))\n",
    "print(lucky_sum(1, 13, 3))\n",
    "print(lucky_sum(13, 2, 13))"
   ]
  },
  {
   "cell_type": "markdown",
   "metadata": {},
   "source": [
    "For this problem, we'll round an int value up to the next multiple of 10 if its rightmost digit is 5 or more, so 15 rounds up to 20. Alternately, round down to the previous multiple of 10 if its rightmost digit is less than 5, so 12 rounds down to 10. Given 3 ints, a b c, return the sum of their rounded values. To avoid code repetition, write a separate helper \"def round10(num):\" and call it 3 times. Write the helper entirely below and at the same indent level as round_sum()."
   ]
  },
  {
   "cell_type": "code",
   "execution_count": 13,
   "metadata": {},
   "outputs": [],
   "source": [
    "def round10(num):\n",
    "  return round(float(num) / 10) * 10\n",
    "\n",
    "def round_sum(a, b, c):\n",
    "  return int(round10(a) + round10(b) + round10(c))"
   ]
  },
  {
   "cell_type": "code",
   "execution_count": 14,
   "metadata": {},
   "outputs": [
    {
     "name": "stdout",
     "output_type": "stream",
     "text": [
      "40\n",
      "10\n",
      "0\n"
     ]
    }
   ],
   "source": [
    "print(round_sum(10, 10, 19))\n",
    "print(round_sum(9, 4, 4))\n",
    "print(round_sum(0, 0, 1))"
   ]
  },
  {
   "cell_type": "markdown",
   "metadata": {},
   "source": [
    "Write a function named capital_indexes. The function takes a single parameter, which is a string. Your function should return a list of all the indexes in the string that have capital letters.\n",
    "\n",
    "For example, calling capital_indexes(\"HeLlO\") should return the list [0, 2, 4]."
   ]
  },
  {
   "cell_type": "code",
   "execution_count": 15,
   "metadata": {},
   "outputs": [
    {
     "data": {
      "text/plain": [
       "[0, 2, 4]"
      ]
     },
     "execution_count": 15,
     "metadata": {},
     "output_type": "execute_result"
    }
   ],
   "source": [
    "def capital_indexes(word):\n",
    "    letters = []\n",
    "    count = 0\n",
    "    for letter in word:\n",
    "        if letter.isupper():\n",
    "            letters.append(count)\n",
    "            count += 1\n",
    "        else:\n",
    "            count += 1\n",
    "    return letters\n",
    "        \n",
    "capital_indexes('HeLlO')"
   ]
  },
  {
   "cell_type": "markdown",
   "metadata": {},
   "source": [
    "Write a function named mid that takes a string as its parameter. Your function should extract and return the middle letter. If there is no middle letter, your function should return the empty string.\n",
    "\n",
    "For example, mid(\"abc\") should return \"b\" and mid(\"aaaa\") should return \"\"."
   ]
  },
  {
   "cell_type": "code",
   "execution_count": 16,
   "metadata": {},
   "outputs": [
    {
     "name": "stdout",
     "output_type": "stream",
     "text": [
      "b\n",
      "\n"
     ]
    }
   ],
   "source": [
    "def mid(word):\n",
    "    if len(word) % 2 == 0:\n",
    "        return \"\"\n",
    "    else:\n",
    "        return word[(len(word) // 2)]\n",
    "    \n",
    "print(mid('abc'))\n",
    "print(mid('aaaa'))"
   ]
  },
  {
   "cell_type": "code",
   "execution_count": 17,
   "metadata": {},
   "outputs": [
    {
     "name": "stdout",
     "output_type": "stream",
     "text": [
      "True\n",
      "False\n"
     ]
    }
   ],
   "source": [
    "def double_letters(word):\n",
    "    letters = []\n",
    "    count = 0\n",
    "    for i, letter in enumerate(word):\n",
    "        if i == 0:\n",
    "            letters.append(letter)\n",
    "        elif i > 0:\n",
    "            if letter == letters[-1]:\n",
    "                count += 1\n",
    "                letters.append(letter)\n",
    "            else:\n",
    "                letters.append(letter)\n",
    "    if count > 0:\n",
    "        return True\n",
    "    else:\n",
    "        return False\n",
    "    \n",
    "print(double_letters('hello'))\n",
    "print(double_letters('nono'))"
   ]
  },
  {
   "cell_type": "markdown",
   "metadata": {},
   "source": [
    "Write a function named add_dots that takes a string and adds \".\" in between each letter. For example, calling add_dots(\"test\") should return the string \"t.e.s.t\".\n",
    "\n",
    "Then, below the add_dots function, write another function named remove_dots that removes all dots from a string. For example, calling remove_dots(\"t.e.s.t\") should return \"test\".\n",
    "\n",
    "If both functions are correct, calling remove_dots(add_dots(string)) should return back the original string for any string.\n",
    "\n",
    "(You may assume that the input to add_dots does not itself contain any dots.)"
   ]
  },
  {
   "cell_type": "code",
   "execution_count": 18,
   "metadata": {},
   "outputs": [
    {
     "data": {
      "text/plain": [
       "'t.a.c.o'"
      ]
     },
     "execution_count": 18,
     "metadata": {},
     "output_type": "execute_result"
    }
   ],
   "source": [
    "def add_dots(word):\n",
    "    #Create an empty string\n",
    "    letters = ''\n",
    "    #Iterate through each element/letter of the string \n",
    "    #and concatenate to the variable letters with a '.'\n",
    "    for letter in word:\n",
    "        letters += (letter + '.')\n",
    "    #Since the last character will include a '.' at the end,\n",
    "    #return all but the final character in the string.\n",
    "    return letters[:-1]\n",
    "\n",
    "add_dots('taco')"
   ]
  },
  {
   "cell_type": "code",
   "execution_count": 19,
   "metadata": {},
   "outputs": [
    {
     "data": {
      "text/plain": [
       "'taco'"
      ]
     },
     "execution_count": 19,
     "metadata": {},
     "output_type": "execute_result"
    }
   ],
   "source": [
    "def remove_dots(word):\n",
    "    letters = ''\n",
    "    for letter in word:\n",
    "        if letter != '.':\n",
    "            letters += letter\n",
    "    return letters\n",
    "\n",
    "remove_dots('t.a.c.o')"
   ]
  },
  {
   "cell_type": "code",
   "execution_count": 20,
   "metadata": {},
   "outputs": [
    {
     "data": {
      "text/plain": [
       "'taco'"
      ]
     },
     "execution_count": 20,
     "metadata": {},
     "output_type": "execute_result"
    }
   ],
   "source": [
    "remove_dots(add_dots('taco'))"
   ]
  },
  {
   "cell_type": "code",
   "execution_count": 21,
   "metadata": {},
   "outputs": [
    {
     "data": {
      "text/plain": [
       "'t.a.c.o'"
      ]
     },
     "execution_count": 21,
     "metadata": {},
     "output_type": "execute_result"
    }
   ],
   "source": [
    "def add_dots(word):\n",
    "    return '.'.join(word)\n",
    "\n",
    "add_dots('taco')"
   ]
  },
  {
   "cell_type": "code",
   "execution_count": 22,
   "metadata": {},
   "outputs": [
    {
     "data": {
      "text/plain": [
       "'taco'"
      ]
     },
     "execution_count": 22,
     "metadata": {},
     "output_type": "execute_result"
    }
   ],
   "source": [
    "def remove_dots(word):\n",
    "    return word.replace('.', '')\n",
    "\n",
    "remove_dots('t.a.c.o')"
   ]
  },
  {
   "cell_type": "code",
   "execution_count": 23,
   "metadata": {},
   "outputs": [
    {
     "data": {
      "text/plain": [
       "'taco'"
      ]
     },
     "execution_count": 23,
     "metadata": {},
     "output_type": "execute_result"
    }
   ],
   "source": [
    "remove_dots(add_dots('taco'))"
   ]
  },
  {
   "cell_type": "markdown",
   "metadata": {},
   "source": [
    "Define a function named count that takes a single parameter. The parameter is a string. The string will contain a single word divided into syllables by hyphens, such as these:\n",
    "\n",
    "\"ho-tel\"\n",
    "\"cat\"\n",
    "\"met-a-phor\"\n",
    "\"ter-min-a-tor\" <br>\n",
    "Your function should count the number of syllables and return it.\n",
    "\n",
    "For example, the call count(\"ho-tel\") should return 2."
   ]
  },
  {
   "cell_type": "code",
   "execution_count": 24,
   "metadata": {},
   "outputs": [
    {
     "name": "stdout",
     "output_type": "stream",
     "text": [
      "2\n",
      "1\n",
      "3\n",
      "4\n"
     ]
    }
   ],
   "source": [
    "def count(word):\n",
    "    return len(word.split('-'))\n",
    "\n",
    "print(count('ho-tel'))\n",
    "print(count('cat'))\n",
    "print(count('met-a-phor'))\n",
    "print(count('ter-min-a-tor'))"
   ]
  },
  {
   "cell_type": "markdown",
   "metadata": {},
   "source": [
    "Two strings are anagrams if you can make one from the other by rearranging the letters.\n",
    "\n",
    "Write a function named is_anagram that takes two strings as its parameters. Your function should return True if the strings are anagrams, and False otherwise.\n",
    "\n",
    "For example, the call is_anagram(\"typhoon\", \"opython\") should return True while the call is_anagram(\"Alice\", \"Bob\") should return False."
   ]
  },
  {
   "cell_type": "code",
   "execution_count": 25,
   "metadata": {},
   "outputs": [
    {
     "name": "stdout",
     "output_type": "stream",
     "text": [
      "True\n",
      "False\n"
     ]
    }
   ],
   "source": [
    "def is_anagram(word1, word2):\n",
    "    word1_list = sorted(list(word1))\n",
    "    word2_list = sorted(list(word2))\n",
    "   \n",
    "    if word1_list == word2_list:\n",
    "        return True\n",
    "    else:\n",
    "        return False\n",
    "        \n",
    "print(is_anagram('typhoon', 'opython'))\n",
    "print(is_anagram('Alice', 'Bob'))"
   ]
  },
  {
   "cell_type": "markdown",
   "metadata": {},
   "source": [
    "Write a function named format_number that takes a non-negative number as its only parameter.\n",
    "\n",
    "Your function should convert the number to a string and add commas as a thousands separator.\n",
    "\n",
    "For example, calling format_number(1000000) should return \"1,000,000\"."
   ]
  },
  {
   "cell_type": "code",
   "execution_count": 26,
   "metadata": {},
   "outputs": [
    {
     "name": "stdout",
     "output_type": "stream",
     "text": [
      "1,000,000\n",
      "123,456\n"
     ]
    }
   ],
   "source": [
    "def format_number(number):\n",
    "    num_string1 = str(number)\n",
    "    num_string2 = num_string1[::-1]\n",
    "    \n",
    "    counter = 1\n",
    "    rev_num = ''\n",
    "    for num in num_string2:\n",
    "        if counter % 3 == 0:\n",
    "            rev_num += num + ','\n",
    "            counter += 1\n",
    "        else:\n",
    "            rev_num += num\n",
    "            counter += 1\n",
    "    if rev_num[-1] == ',':\n",
    "        rev_num = rev_num[:-1]\n",
    "    \n",
    "    norm_num = rev_num[::-1]\n",
    "    return norm_num\n",
    "\n",
    "print(format_number(1000000))\n",
    "print(format_number(123456))"
   ]
  },
  {
   "cell_type": "markdown",
   "metadata": {},
   "source": [
    "The goal of this challenge is to analyze a binary string consisting of only zeros and ones. Your code should find the biggest number of consecutive zeros in the string. For example, given the string:\n",
    "\n",
    "\"1001101000110\"\n",
    "The biggest number of consecutive zeros is 3.\n",
    "\n",
    "Define a function named consecutive_zeros that takes a single parameter, which is the string of zeros and ones. Your function should return the number described above."
   ]
  },
  {
   "cell_type": "code",
   "execution_count": 27,
   "metadata": {},
   "outputs": [
    {
     "data": {
      "text/plain": [
       "3"
      ]
     },
     "execution_count": 27,
     "metadata": {},
     "output_type": "execute_result"
    }
   ],
   "source": [
    "def consecutive_zeros(str_num):\n",
    "    zero_list = str_num.split('1')\n",
    "    zero_count = []\n",
    "    for num in zero_list:\n",
    "        zero_count.append(len(num))\n",
    "    return max(zero_count)\n",
    "\n",
    "consecutive_zeros('1001101000110')"
   ]
  },
  {
   "cell_type": "markdown",
   "metadata": {},
   "source": [
    "Define a function named up_down that takes a single number as its parameter. Your function return a tuple containing two numbers; the first should be one lower than the parameter, and the second should be one higher.\n",
    "\n",
    "For example, calling up_down(5) should return (4, 6)."
   ]
  },
  {
   "cell_type": "code",
   "execution_count": 28,
   "metadata": {},
   "outputs": [
    {
     "name": "stdout",
     "output_type": "stream",
     "text": [
      "(4, 6)\n",
      "<class 'tuple'>\n"
     ]
    }
   ],
   "source": [
    "def up_down(num):\n",
    "    return (num-1, num+1)\n",
    "\n",
    "print(up_down(5))\n",
    "print(type(up_down(5)))"
   ]
  },
  {
   "cell_type": "markdown",
   "metadata": {},
   "source": [
    "Define a function named all_equal that takes a list and checks whether all elements in the list are the same.\n",
    "\n",
    "For example, calling all_equal([1, 1, 1]) should return True."
   ]
  },
  {
   "cell_type": "markdown",
   "metadata": {},
   "source": [
    "# !!!!!!!!"
   ]
  },
  {
   "cell_type": "code",
   "execution_count": 29,
   "metadata": {},
   "outputs": [],
   "source": [
    "def all_equal(num_list):\n",
    "    if len(set(num_list)) == 1:\n",
    "        return True\n",
    "    else:\n",
    "        return False"
   ]
  },
  {
   "cell_type": "code",
   "execution_count": 30,
   "metadata": {},
   "outputs": [
    {
     "data": {
      "text/plain": [
       "False"
      ]
     },
     "execution_count": 30,
     "metadata": {},
     "output_type": "execute_result"
    }
   ],
   "source": [
    "all_equal([3,2,1])"
   ]
  },
  {
   "cell_type": "code",
   "execution_count": 31,
   "metadata": {},
   "outputs": [
    {
     "data": {
      "text/plain": [
       "True"
      ]
     },
     "execution_count": 31,
     "metadata": {},
     "output_type": "execute_result"
    }
   ],
   "source": [
    "all_equal([2,2,2])"
   ]
  },
  {
   "cell_type": "code",
   "execution_count": 32,
   "metadata": {},
   "outputs": [
    {
     "data": {
      "text/plain": [
       "True"
      ]
     },
     "execution_count": 32,
     "metadata": {},
     "output_type": "execute_result"
    }
   ],
   "source": [
    "all_equal([1,1,1])"
   ]
  },
  {
   "cell_type": "code",
   "execution_count": 33,
   "metadata": {},
   "outputs": [],
   "source": [
    "def all_equal(num_list):\n",
    "    num_list_2 = []\n",
    "    for num in num_list:\n",
    "        if num in num_list_2:\n",
    "            pass\n",
    "        else:\n",
    "            num_list_2.append(num)\n",
    "    if len(num_list_2) == 1:\n",
    "        return True"
   ]
  },
  {
   "cell_type": "code",
   "execution_count": 34,
   "metadata": {},
   "outputs": [],
   "source": [
    "all_equal([2,2,3])"
   ]
  },
  {
   "cell_type": "markdown",
   "metadata": {},
   "source": [
    "# !!!!!!!\n",
    "\n",
    "Define a function named triple_and that takes three parameters and returns True only if they are all True and False otherwise."
   ]
  },
  {
   "cell_type": "code",
   "execution_count": 35,
   "metadata": {},
   "outputs": [],
   "source": [
    "def triple_and(a,b,c):\n",
    "    if (a == b == c) & (a == True):\n",
    "        return True\n",
    "    else:\n",
    "        return False"
   ]
  },
  {
   "cell_type": "code",
   "execution_count": 36,
   "metadata": {},
   "outputs": [
    {
     "data": {
      "text/plain": [
       "False"
      ]
     },
     "execution_count": 36,
     "metadata": {},
     "output_type": "execute_result"
    }
   ],
   "source": [
    "triple_and(False, False, False)"
   ]
  },
  {
   "cell_type": "code",
   "execution_count": 37,
   "metadata": {},
   "outputs": [
    {
     "data": {
      "text/plain": [
       "True"
      ]
     },
     "execution_count": 37,
     "metadata": {},
     "output_type": "execute_result"
    }
   ],
   "source": [
    "triple_and(True, True, True)"
   ]
  },
  {
   "cell_type": "markdown",
   "metadata": {},
   "source": [
    "Define a function named convert that takes a list of numbers as its only parameter and returns a list of each number converted to a string.\n",
    "\n",
    "For example, the call convert([1, 2, 3]) should return [\"1\", \"2\", \"3\"].\n",
    "\n",
    "What makes this tricky is that your function body must only contain a single line of code."
   ]
  },
  {
   "cell_type": "code",
   "execution_count": 38,
   "metadata": {},
   "outputs": [],
   "source": [
    "def convert(num_list):\n",
    "    return [str(x) for x in num_list]"
   ]
  },
  {
   "cell_type": "code",
   "execution_count": 39,
   "metadata": {},
   "outputs": [
    {
     "data": {
      "text/plain": [
       "['1', '2', '3']"
      ]
     },
     "execution_count": 39,
     "metadata": {},
     "output_type": "execute_result"
    }
   ],
   "source": [
    "convert([1,2,3])"
   ]
  },
  {
   "cell_type": "markdown",
   "metadata": {},
   "source": [
    "Define a function param_count that takes a variable number of parameters. The function should return the number of arguments it was called with.\n",
    "\n",
    "For example, param_count() should return 0, while param_count(2, 3, 4) should return 3."
   ]
  },
  {
   "cell_type": "code",
   "execution_count": 40,
   "metadata": {},
   "outputs": [],
   "source": [
    "def param_count(*args):\n",
    "    return len(args)"
   ]
  },
  {
   "cell_type": "code",
   "execution_count": 41,
   "metadata": {},
   "outputs": [
    {
     "name": "stdout",
     "output_type": "stream",
     "text": [
      "0\n",
      "3\n"
     ]
    }
   ],
   "source": [
    "print(param_count())\n",
    "print(param_count(2,3,4))"
   ]
  },
  {
   "cell_type": "markdown",
   "metadata": {},
   "source": [
    "Write a function that takes a list of lists and flattens it into a one-dimensional list.\n",
    "\n",
    "Name your function flatten. It should take a single parameter and return a list.\n",
    "\n",
    "For example, calling:\n",
    "\n",
    "flatten([[1, 2], [3, 4]])\n",
    "Should return the list:\n",
    "\n",
    "[1, 2, 3, 4]"
   ]
  },
  {
   "cell_type": "code",
   "execution_count": 42,
   "metadata": {},
   "outputs": [],
   "source": [
    "def flatten(multi_lists):\n",
    "    list_len = len(multi_lists)\n",
    "    print_list = []\n",
    "    for num in range(list_len):\n",
    "        print_list += multi_lists[num]\n",
    "    return print_list"
   ]
  },
  {
   "cell_type": "code",
   "execution_count": 43,
   "metadata": {},
   "outputs": [
    {
     "data": {
      "text/plain": [
       "[1, 2, 3, 4]"
      ]
     },
     "execution_count": 43,
     "metadata": {},
     "output_type": "execute_result"
    }
   ],
   "source": [
    "flatten([[1,2], [3,4]])"
   ]
  },
  {
   "cell_type": "markdown",
   "metadata": {},
   "source": [
    "A string is a palindrome when it is the same when read backwards.\n",
    "\n",
    "For example, the string \"bob\" is a palindrome. So is \"abba\". But the string \"abcd\" is not a palindrome, because \"abcd\" != \"dcba\".\n",
    "\n",
    "Write a function named palindrome that takes a single string as its parameter. Your function should return True if the string is a palindrome, and False otherwise."
   ]
  },
  {
   "cell_type": "code",
   "execution_count": 44,
   "metadata": {},
   "outputs": [],
   "source": [
    "def palindrome(a):\n",
    "    return a == a[::-1]"
   ]
  },
  {
   "cell_type": "code",
   "execution_count": 45,
   "metadata": {},
   "outputs": [
    {
     "name": "stdout",
     "output_type": "stream",
     "text": [
      "True\n",
      "True\n",
      "False\n"
     ]
    }
   ],
   "source": [
    "print(palindrome('bob'))\n",
    "print(palindrome('abba'))\n",
    "print(palindrome('abcd'))"
   ]
  },
  {
   "cell_type": "code",
   "execution_count": 46,
   "metadata": {},
   "outputs": [],
   "source": [
    "def under_5(num_list):\n",
    "    return [x for x in num_list if x < 5]"
   ]
  },
  {
   "cell_type": "code",
   "execution_count": 47,
   "metadata": {},
   "outputs": [
    {
     "data": {
      "text/plain": [
       "[3, 4]"
      ]
     },
     "execution_count": 47,
     "metadata": {},
     "output_type": "execute_result"
    }
   ],
   "source": [
    "under_5([3,4,5,6])"
   ]
  },
  {
   "cell_type": "markdown",
   "metadata": {},
   "source": [
    "The built-in zip function \"zips\" two lists. Write your own implementation of this function.\n",
    "\n",
    "Define a function named zap. The function takes two parameters, a and b. These are lists.\n",
    "\n",
    "Your function should return a list of tuples. Each tuple should contain one item from the a list and one from b.\n",
    "\n",
    "You may assume a and b have equal lengths.\n",
    "\n",
    "If you don't get it, think of a zipper.\n",
    "\n",
    "For example:\n",
    "\n",
    "zap(\n",
    "    [0, 1, 2, 3],\n",
    "    [5, 6, 7, 8]\n",
    ")\n",
    "Should return:\n",
    "\n",
    "[(0, 5),\n",
    " (1, 6),\n",
    " (2, 7),\n",
    " (3, 8)]"
   ]
  },
  {
   "cell_type": "code",
   "execution_count": 48,
   "metadata": {},
   "outputs": [],
   "source": [
    "def zap(a,b):\n",
    "    print_list = []\n",
    "    for count, value in enumerate(a):\n",
    "        print_list.append((value, b[count]))\n",
    "    return print_list"
   ]
  },
  {
   "cell_type": "code",
   "execution_count": 49,
   "metadata": {},
   "outputs": [
    {
     "data": {
      "text/plain": [
       "[(0, 5), (1, 6), (2, 7), (3, 8)]"
      ]
     },
     "execution_count": 49,
     "metadata": {},
     "output_type": "execute_result"
    }
   ],
   "source": [
    "zap([0, 1, 2, 3],\n",
    "    [5, 6, 7, 8])"
   ]
  },
  {
   "cell_type": "markdown",
   "metadata": {},
   "source": [
    "The aim of this challenge is, given a dictionary of people's online status, to count the number of people who are online.\n",
    "\n",
    "For example, consider the following dictionary:<br>\n",
    "\n",
    "statuses = {<br>\n",
    "    \"Alice\": \"online\",<br>\n",
    "    \"Bob\": \"offline\",<br>\n",
    "    \"Eve\": \"online\",<br>\n",
    "}<br>\n",
    "In this case, the number of people online is 2.<br>\n",
    "\n",
    "Write a function named online_count that takes one parameter. The parameter is a dictionary that maps from strings of names to the string \"online\" or \"offline\", as seen above.\n",
    "\n",
    "Your function should return the number of people who are online."
   ]
  },
  {
   "cell_type": "code",
   "execution_count": 50,
   "metadata": {},
   "outputs": [],
   "source": [
    "def online_count(name_dict):\n",
    "    count = 0\n",
    "    for item in name_dict.items():\n",
    "        if item[1] == 'online':\n",
    "            count += 1\n",
    "    return count"
   ]
  },
  {
   "cell_type": "code",
   "execution_count": 51,
   "metadata": {},
   "outputs": [
    {
     "data": {
      "text/plain": [
       "2"
      ]
     },
     "execution_count": 51,
     "metadata": {},
     "output_type": "execute_result"
    }
   ],
   "source": [
    "online_count({ \"Alice\": \"online\", \"Bob\": \"offline\", \"Eve\": \"online\", } )"
   ]
  },
  {
   "cell_type": "markdown",
   "metadata": {},
   "source": [
    "Write a function named only_ints that takes two parameters. Your function should return True if both parameters are integers, and False otherwise.\n",
    "\n",
    "For example, calling only_ints(1, 2) should return True, while calling only_ints(\"a\", 1) should return False."
   ]
  },
  {
   "cell_type": "code",
   "execution_count": 52,
   "metadata": {},
   "outputs": [],
   "source": [
    "def only_ints(a,b):\n",
    "    return (type(a) == int) & (type(b) == int)"
   ]
  },
  {
   "cell_type": "code",
   "execution_count": 53,
   "metadata": {},
   "outputs": [
    {
     "name": "stdout",
     "output_type": "stream",
     "text": [
      "True\n",
      "False\n"
     ]
    }
   ],
   "source": [
    "print(only_ints(1, 2))\n",
    "print(only_ints('a',1))"
   ]
  },
  {
   "cell_type": "code",
   "execution_count": 54,
   "metadata": {},
   "outputs": [
    {
     "data": {
      "text/plain": [
       "'1,000,000'"
      ]
     },
     "execution_count": 54,
     "metadata": {},
     "output_type": "execute_result"
    }
   ],
   "source": [
    "def format_number(n):\n",
    "    return \"{:,}\".format(n)\n",
    "\n",
    "format_number(1000000)"
   ]
  },
  {
   "cell_type": "code",
   "execution_count": 55,
   "metadata": {},
   "outputs": [
    {
     "name": "stdout",
     "output_type": "stream",
     "text": [
      "1,000,000\n",
      "123,456\n"
     ]
    }
   ],
   "source": [
    "def format_number(number):\n",
    "    #Convert the argument to a string and reverse it\n",
    "    num_string_rev = str(number)[::-1]\n",
    "    \n",
    "    counter = 1\n",
    "    \n",
    "    #Used to house the new string\n",
    "    rev_num = ''\n",
    "    \n",
    "    #Iterate through each character\n",
    "    for num in num_string_rev:\n",
    "        \n",
    "        #Since we are moving backwards, we know that ever third character will require a comma. A counter is being \n",
    "        #used to track each third character. For each third character, a comma will be included with the character \n",
    "        #concatenated to the empty string variable rev_num.\n",
    "        if counter % 3 == 0:\n",
    "            rev_num += num + ','\n",
    "            counter += 1\n",
    "        else:\n",
    "            rev_num += num\n",
    "            counter += 1\n",
    "            \n",
    "    #The output that is completed above will have a comma at the end of the string if the number of digits\n",
    "    #is a multiple of 3. Ex: 123456 will come out as '654,321,' because working backwards, the 1 is the 6th character,\n",
    "    #which will include a comma with it. While still reversed, if the final character is a comma, take all but\n",
    "    #but the final character and then reverse it.  Else: return the reversed number.\n",
    "    if rev_num[-1] == ',':\n",
    "        return rev_num[:-1][::-1]\n",
    "    else:\n",
    "        return rev_num[::-1]\n",
    "\n",
    "print(format_number(1000000))\n",
    "print(format_number(123456))"
   ]
  },
  {
   "cell_type": "code",
   "execution_count": 56,
   "metadata": {},
   "outputs": [
    {
     "data": {
      "text/plain": [
       "2"
      ]
     },
     "execution_count": 56,
     "metadata": {},
     "output_type": "execute_result"
    }
   ],
   "source": [
    "-6 % 4"
   ]
  },
  {
   "cell_type": "code",
   "execution_count": 57,
   "metadata": {},
   "outputs": [
    {
     "name": "stdout",
     "output_type": "stream",
     "text": [
      "1,000,000\n",
      "123,456\n"
     ]
    }
   ],
   "source": [
    "def format_number(number):\n",
    "    str_num = str(number)\n",
    "    neg_counter = len(str_num) * -1\n",
    "    max_char = len(str_num) * -1\n",
    "    num_print = ''\n",
    "    \n",
    "    #Focusing on the 123456 example: This code will start neg_counter at -6. -6 % 3 == 0.  I don't want to insert\n",
    "    #a comma for this since it's the first character.  So, I can add an if statement that says if neg_counter ==\n",
    "    #the length of the string * -1, which would be -6 in this example, just concatenate the character by itself.\n",
    "    for char in str_num:\n",
    "        if neg_counter == max_char:\n",
    "            num_print += char\n",
    "            neg_counter += 1\n",
    "            \n",
    "        #After the first character, if the neg_counter % 3 == 0, then concatenate a comma BEFORE the character.\n",
    "        #In the first example, since things were moving in a backwards motion, the comma came after the character.\n",
    "        elif neg_counter % 3 == 0:\n",
    "            num_print += ',' + char\n",
    "            neg_counter += 1\n",
    "        else:\n",
    "            num_print += char\n",
    "            neg_counter += 1\n",
    "    return num_print\n",
    "\n",
    "print(format_number(1000000))\n",
    "print(format_number(123456))"
   ]
  },
  {
   "cell_type": "code",
   "execution_count": 58,
   "metadata": {},
   "outputs": [
    {
     "data": {
      "text/html": [
       "<div>\n",
       "<style scoped>\n",
       "    .dataframe tbody tr th:only-of-type {\n",
       "        vertical-align: middle;\n",
       "    }\n",
       "\n",
       "    .dataframe tbody tr th {\n",
       "        vertical-align: top;\n",
       "    }\n",
       "\n",
       "    .dataframe thead th {\n",
       "        text-align: right;\n",
       "    }\n",
       "</style>\n",
       "<table border=\"1\" class=\"dataframe\">\n",
       "  <thead>\n",
       "    <tr style=\"text-align: right;\">\n",
       "      <th></th>\n",
       "      <th>nums</th>\n",
       "      <th>larger_vals</th>\n",
       "    </tr>\n",
       "  </thead>\n",
       "  <tbody>\n",
       "    <tr>\n",
       "      <th>0</th>\n",
       "      <td>2.0</td>\n",
       "      <td>2.1</td>\n",
       "    </tr>\n",
       "    <tr>\n",
       "      <th>1</th>\n",
       "      <td>2.0</td>\n",
       "      <td>2.2</td>\n",
       "    </tr>\n",
       "    <tr>\n",
       "      <th>2</th>\n",
       "      <td>2.0</td>\n",
       "      <td>2.3</td>\n",
       "    </tr>\n",
       "    <tr>\n",
       "      <th>3</th>\n",
       "      <td>2.0</td>\n",
       "      <td>2.4</td>\n",
       "    </tr>\n",
       "    <tr>\n",
       "      <th>4</th>\n",
       "      <td>NaN</td>\n",
       "      <td>2.5</td>\n",
       "    </tr>\n",
       "    <tr>\n",
       "      <th>5</th>\n",
       "      <td>2.0</td>\n",
       "      <td>2.6</td>\n",
       "    </tr>\n",
       "    <tr>\n",
       "      <th>6</th>\n",
       "      <td>3.0</td>\n",
       "      <td>3.1</td>\n",
       "    </tr>\n",
       "    <tr>\n",
       "      <th>7</th>\n",
       "      <td>NaN</td>\n",
       "      <td>3.2</td>\n",
       "    </tr>\n",
       "    <tr>\n",
       "      <th>8</th>\n",
       "      <td>3.0</td>\n",
       "      <td>3.3</td>\n",
       "    </tr>\n",
       "    <tr>\n",
       "      <th>9</th>\n",
       "      <td>3.0</td>\n",
       "      <td>3.4</td>\n",
       "    </tr>\n",
       "  </tbody>\n",
       "</table>\n",
       "</div>"
      ],
      "text/plain": [
       "   nums  larger_vals\n",
       "0   2.0          2.1\n",
       "1   2.0          2.2\n",
       "2   2.0          2.3\n",
       "3   2.0          2.4\n",
       "4   NaN          2.5\n",
       "5   2.0          2.6\n",
       "6   3.0          3.1\n",
       "7   NaN          3.2\n",
       "8   3.0          3.3\n",
       "9   3.0          3.4"
      ]
     },
     "execution_count": 58,
     "metadata": {},
     "output_type": "execute_result"
    }
   ],
   "source": [
    "d =\\\n",
    "{'nums': [2,2,2,2,np.nan,2,3,np.nan,3,3],\\\n",
    "'larger_vals': [2.1, 2.2, 2.3, 2.4, 2.5, 2.6, 3.1, 3.2, 3.3, 3.4]\\\n",
    "}\n",
    "\n",
    "df = pd.DataFrame(d)\n",
    "\n",
    "df"
   ]
  },
  {
   "cell_type": "code",
   "execution_count": 59,
   "metadata": {},
   "outputs": [],
   "source": [
    "import math\n",
    "df['nums'] = df[['nums', 'larger_vals']].apply(lambda x: str(x['larger_vals']).split('.')[0] \\\n",
    "                                               if math.isnan(x['nums']) else x['nums'], axis=1)"
   ]
  },
  {
   "cell_type": "code",
   "execution_count": 60,
   "metadata": {},
   "outputs": [
    {
     "data": {
      "text/html": [
       "<div>\n",
       "<style scoped>\n",
       "    .dataframe tbody tr th:only-of-type {\n",
       "        vertical-align: middle;\n",
       "    }\n",
       "\n",
       "    .dataframe tbody tr th {\n",
       "        vertical-align: top;\n",
       "    }\n",
       "\n",
       "    .dataframe thead th {\n",
       "        text-align: right;\n",
       "    }\n",
       "</style>\n",
       "<table border=\"1\" class=\"dataframe\">\n",
       "  <thead>\n",
       "    <tr style=\"text-align: right;\">\n",
       "      <th></th>\n",
       "      <th>nums</th>\n",
       "      <th>larger_vals</th>\n",
       "    </tr>\n",
       "  </thead>\n",
       "  <tbody>\n",
       "    <tr>\n",
       "      <th>0</th>\n",
       "      <td>2</td>\n",
       "      <td>2.1</td>\n",
       "    </tr>\n",
       "    <tr>\n",
       "      <th>1</th>\n",
       "      <td>2</td>\n",
       "      <td>2.2</td>\n",
       "    </tr>\n",
       "    <tr>\n",
       "      <th>2</th>\n",
       "      <td>2</td>\n",
       "      <td>2.3</td>\n",
       "    </tr>\n",
       "    <tr>\n",
       "      <th>3</th>\n",
       "      <td>2</td>\n",
       "      <td>2.4</td>\n",
       "    </tr>\n",
       "    <tr>\n",
       "      <th>4</th>\n",
       "      <td>2</td>\n",
       "      <td>2.5</td>\n",
       "    </tr>\n",
       "    <tr>\n",
       "      <th>5</th>\n",
       "      <td>2</td>\n",
       "      <td>2.6</td>\n",
       "    </tr>\n",
       "    <tr>\n",
       "      <th>6</th>\n",
       "      <td>3</td>\n",
       "      <td>3.1</td>\n",
       "    </tr>\n",
       "    <tr>\n",
       "      <th>7</th>\n",
       "      <td>3</td>\n",
       "      <td>3.2</td>\n",
       "    </tr>\n",
       "    <tr>\n",
       "      <th>8</th>\n",
       "      <td>3</td>\n",
       "      <td>3.3</td>\n",
       "    </tr>\n",
       "    <tr>\n",
       "      <th>9</th>\n",
       "      <td>3</td>\n",
       "      <td>3.4</td>\n",
       "    </tr>\n",
       "  </tbody>\n",
       "</table>\n",
       "</div>"
      ],
      "text/plain": [
       "  nums  larger_vals\n",
       "0    2          2.1\n",
       "1    2          2.2\n",
       "2    2          2.3\n",
       "3    2          2.4\n",
       "4    2          2.5\n",
       "5    2          2.6\n",
       "6    3          3.1\n",
       "7    3          3.2\n",
       "8    3          3.3\n",
       "9    3          3.4"
      ]
     },
     "execution_count": 60,
     "metadata": {},
     "output_type": "execute_result"
    }
   ],
   "source": [
    "df"
   ]
  },
  {
   "cell_type": "markdown",
   "metadata": {},
   "source": [
    "A function to take in a list of numbers and add 1 to each element."
   ]
  },
  {
   "cell_type": "code",
   "execution_count": 61,
   "metadata": {},
   "outputs": [],
   "source": [
    "num_list = [1,2,3]\n",
    "def add_1(list_of_nums):\n",
    "    new_list = []\n",
    "    for num in list_of_nums:\n",
    "        num += 1\n",
    "        new_list.append(num)\n",
    "    return new_list\n",
    "new_nums = add_1(num_list)"
   ]
  },
  {
   "cell_type": "code",
   "execution_count": 62,
   "metadata": {},
   "outputs": [
    {
     "data": {
      "text/plain": [
       "[2, 3, 4]"
      ]
     },
     "execution_count": 62,
     "metadata": {},
     "output_type": "execute_result"
    }
   ],
   "source": [
    "new_nums"
   ]
  },
  {
   "cell_type": "code",
   "execution_count": 63,
   "metadata": {},
   "outputs": [
    {
     "data": {
      "text/plain": [
       "[1, 2, 3]"
      ]
     },
     "execution_count": 63,
     "metadata": {},
     "output_type": "execute_result"
    }
   ],
   "source": [
    "num_list"
   ]
  },
  {
   "cell_type": "markdown",
   "metadata": {},
   "source": [
    "Functions used to find the first n prime numbers."
   ]
  },
  {
   "cell_type": "code",
   "execution_count": 64,
   "metadata": {},
   "outputs": [],
   "source": [
    "def is_prime(n):\n",
    "    divs = []\n",
    "    for num in range(1, n+1):\n",
    "        if n % num == 0:\n",
    "            divs.append(num)\n",
    "    if len(divs) <= 2:\n",
    "        prime_nums.append(n)"
   ]
  },
  {
   "cell_type": "code",
   "execution_count": 65,
   "metadata": {},
   "outputs": [],
   "source": [
    "prime_nums = []\n",
    "def prime_list(count_of_primes):\n",
    "    n = 1\n",
    "    while len(prime_nums) < count_of_primes:\n",
    "        is_prime(n)\n",
    "        n += 1\n",
    "    return prime_nums"
   ]
  },
  {
   "cell_type": "code",
   "execution_count": 66,
   "metadata": {},
   "outputs": [
    {
     "data": {
      "text/plain": [
       "[1, 2, 3, 5, 7, 11, 13, 17, 19, 23]"
      ]
     },
     "execution_count": 66,
     "metadata": {},
     "output_type": "execute_result"
    }
   ],
   "source": [
    "prime_list(10)"
   ]
  },
  {
   "cell_type": "code",
   "execution_count": 67,
   "metadata": {},
   "outputs": [],
   "source": [
    "def is_prime(n):\n",
    "    divs = []\n",
    "    for num in range(1, n+1):\n",
    "        if n % num == 0:\n",
    "            divs.append(num)\n",
    "    if len(divs) <= 2:\n",
    "        return n"
   ]
  },
  {
   "cell_type": "code",
   "execution_count": 68,
   "metadata": {},
   "outputs": [],
   "source": [
    "def prime_list(count_of_primes):\n",
    "    prime_nums = []\n",
    "    n = 1\n",
    "    while len(prime_nums) < count_of_primes:\n",
    "        if is_prime(n):\n",
    "            prime_nums.append(n)\n",
    "        n += 1\n",
    "    return prime_nums"
   ]
  },
  {
   "cell_type": "code",
   "execution_count": 69,
   "metadata": {},
   "outputs": [
    {
     "data": {
      "text/plain": [
       "[1, 2, 3, 5, 7, 11, 13, 17, 19, 23, 29, 31, 37, 41, 43]"
      ]
     },
     "execution_count": 69,
     "metadata": {},
     "output_type": "execute_result"
    }
   ],
   "source": [
    "prime_list(15)"
   ]
  },
  {
   "cell_type": "code",
   "execution_count": 70,
   "metadata": {},
   "outputs": [],
   "source": [
    "def prime_list(count_of_primes):\n",
    "    prime_nums2 = []\n",
    "    n = 1\n",
    "    while len(prime_nums2) < count_of_primes:\n",
    "        divs = []\n",
    "        for num in range(1, n+1):\n",
    "            if n % num == 0:\n",
    "                divs.append(num)\n",
    "        if len(divs) <= 2:\n",
    "            prime_nums2.append(n)\n",
    "        n += 1\n",
    "    return prime_nums2"
   ]
  },
  {
   "cell_type": "code",
   "execution_count": 71,
   "metadata": {},
   "outputs": [
    {
     "data": {
      "text/plain": [
       "[1, 2, 3, 5, 7]"
      ]
     },
     "execution_count": 71,
     "metadata": {},
     "output_type": "execute_result"
    }
   ],
   "source": [
    "prime_list(5)"
   ]
  },
  {
   "cell_type": "code",
   "execution_count": 72,
   "metadata": {},
   "outputs": [
    {
     "data": {
      "text/plain": [
       "[1, 2, 3, 5, 7, 11, 13, 17, 19, 23, 29, 31, 37, 41, 43]"
      ]
     },
     "execution_count": 72,
     "metadata": {},
     "output_type": "execute_result"
    }
   ],
   "source": [
    "prime_list(15)"
   ]
  },
  {
   "cell_type": "markdown",
   "metadata": {},
   "source": [
    "Square root:"
   ]
  },
  {
   "cell_type": "code",
   "execution_count": 73,
   "metadata": {},
   "outputs": [],
   "source": [
    "def sq_rt(n):\n",
    "    return n ** 0.5"
   ]
  },
  {
   "cell_type": "code",
   "execution_count": 74,
   "metadata": {},
   "outputs": [
    {
     "data": {
      "text/plain": [
       "3.0"
      ]
     },
     "execution_count": 74,
     "metadata": {},
     "output_type": "execute_result"
    }
   ],
   "source": [
    "sq_rt(9)"
   ]
  },
  {
   "cell_type": "code",
   "execution_count": 75,
   "metadata": {},
   "outputs": [],
   "source": [
    "def sq_rt(n):\n",
    "    for num in range(n):\n",
    "        if num * num == n:\n",
    "            return num"
   ]
  },
  {
   "cell_type": "code",
   "execution_count": 76,
   "metadata": {},
   "outputs": [
    {
     "data": {
      "text/plain": [
       "3"
      ]
     },
     "execution_count": 76,
     "metadata": {},
     "output_type": "execute_result"
    }
   ],
   "source": [
    "sq_rt(9)"
   ]
  },
  {
   "cell_type": "markdown",
   "metadata": {},
   "source": [
    "Given two integer numbers return their product. If the product is greater than 1000, then return their sum"
   ]
  },
  {
   "cell_type": "code",
   "execution_count": 77,
   "metadata": {},
   "outputs": [
    {
     "name": "stdout",
     "output_type": "stream",
     "text": [
      "600\n",
      "70\n"
     ]
    }
   ],
   "source": [
    "def less_than_1k(a,b):\n",
    "    if a * b > 1000:\n",
    "        return a + b\n",
    "    else:\n",
    "        return a * b\n",
    "    \n",
    "print(less_than_1k(10,60))\n",
    "print(less_than_1k(30,40))"
   ]
  },
  {
   "cell_type": "markdown",
   "metadata": {},
   "source": [
    "Write a function that will take a list of numbers.  If the first and last element are the same, return True."
   ]
  },
  {
   "cell_type": "code",
   "execution_count": 78,
   "metadata": {},
   "outputs": [],
   "source": [
    "def f_and_l(nums):\n",
    "    return nums[0] == nums[-1]"
   ]
  },
  {
   "cell_type": "code",
   "execution_count": 79,
   "metadata": {},
   "outputs": [
    {
     "data": {
      "text/plain": [
       "True"
      ]
     },
     "execution_count": 79,
     "metadata": {},
     "output_type": "execute_result"
    }
   ],
   "source": [
    "f_and_l([10, 20, 30, 40, 10])"
   ]
  },
  {
   "cell_type": "code",
   "execution_count": 80,
   "metadata": {},
   "outputs": [
    {
     "data": {
      "text/plain": [
       "False"
      ]
     },
     "execution_count": 80,
     "metadata": {},
     "output_type": "execute_result"
    }
   ],
   "source": [
    "f_and_l([10, 20, 30, 40, 50])"
   ]
  },
  {
   "cell_type": "markdown",
   "metadata": {},
   "source": [
    "Given a list of numbers, Iterate it and print only those numbers which are divisible of 5"
   ]
  },
  {
   "cell_type": "code",
   "execution_count": 81,
   "metadata": {},
   "outputs": [],
   "source": [
    "def div_5(nums):\n",
    "    list_5 = []\n",
    "    for num in nums:\n",
    "        if num % 5 == 0:\n",
    "            list_5.append(num)\n",
    "    return list_5"
   ]
  },
  {
   "cell_type": "code",
   "execution_count": 82,
   "metadata": {},
   "outputs": [
    {
     "data": {
      "text/plain": [
       "[10, 20, 55]"
      ]
     },
     "execution_count": 82,
     "metadata": {},
     "output_type": "execute_result"
    }
   ],
   "source": [
    "div_5([10, 20, 33, 46, 55])"
   ]
  },
  {
   "cell_type": "code",
   "execution_count": 83,
   "metadata": {},
   "outputs": [
    {
     "data": {
      "text/plain": [
       "[10, 20, 55]"
      ]
     },
     "execution_count": 83,
     "metadata": {},
     "output_type": "execute_result"
    }
   ],
   "source": [
    "nums = [10, 20, 33, 46, 55]\n",
    "\n",
    "[x for x in nums if x % 5 == 0]"
   ]
  },
  {
   "cell_type": "markdown",
   "metadata": {},
   "source": [
    "Create a function named twelveto24. It should accept a string in the format 10:45am or 4:30pm and return a string that is the representation of the time in a 24-hour format. Bonus write a function that does the opposite."
   ]
  },
  {
   "cell_type": "code",
   "execution_count": 84,
   "metadata": {},
   "outputs": [],
   "source": [
    "def twelveto24(time):\n",
    "    am_pm = time[-2:]\n",
    "    time_2 = time[:-2]\n",
    "    hour = time_2.split(':')[0]\n",
    "    minute = time_2.split(':')[1]\n",
    "    if am_pm == 'am':\n",
    "        return time_2\n",
    "    else:\n",
    "        return str(int(hour) + 12) + ':' + minute"
   ]
  },
  {
   "cell_type": "code",
   "execution_count": 85,
   "metadata": {},
   "outputs": [
    {
     "data": {
      "text/plain": [
       "'12:45'"
      ]
     },
     "execution_count": 85,
     "metadata": {},
     "output_type": "execute_result"
    }
   ],
   "source": [
    "twelveto24('12:45am')"
   ]
  },
  {
   "cell_type": "code",
   "execution_count": 86,
   "metadata": {},
   "outputs": [
    {
     "data": {
      "text/plain": [
       "'13:45'"
      ]
     },
     "execution_count": 86,
     "metadata": {},
     "output_type": "execute_result"
    }
   ],
   "source": [
    "twelveto24('1:45pm')"
   ]
  },
  {
   "cell_type": "code",
   "execution_count": 87,
   "metadata": {},
   "outputs": [],
   "source": [
    "today = date.today().strftime(\"%B %d, %Y\")"
   ]
  },
  {
   "cell_type": "code",
   "execution_count": 88,
   "metadata": {},
   "outputs": [
    {
     "name": "stdout",
     "output_type": "stream",
     "text": [
      "Today's date is October 08, 2021.\n"
     ]
    }
   ],
   "source": [
    "print('Today\\'s date is {}.'.format(today))"
   ]
  },
  {
   "cell_type": "code",
   "execution_count": 89,
   "metadata": {},
   "outputs": [],
   "source": [
    "from functools import reduce\n",
    "import math"
   ]
  },
  {
   "cell_type": "code",
   "execution_count": 90,
   "metadata": {},
   "outputs": [],
   "source": [
    "def is_perfect(n):\n",
    "    divs = []\n",
    "    for num in range(1,n+1):\n",
    "        if n % num == 0:\n",
    "            divs.append(num)\n",
    "\n",
    "    if (n == sum(divs[:-1])) & (sum(divs) == n * 2):\n",
    "        return n"
   ]
  },
  {
   "cell_type": "code",
   "execution_count": 91,
   "metadata": {},
   "outputs": [
    {
     "data": {
      "text/plain": [
       "8128"
      ]
     },
     "execution_count": 91,
     "metadata": {},
     "output_type": "execute_result"
    }
   ],
   "source": [
    "is_perfect(8128)"
   ]
  },
  {
   "cell_type": "code",
   "execution_count": 92,
   "metadata": {},
   "outputs": [],
   "source": [
    "is_perfect(245)"
   ]
  },
  {
   "cell_type": "code",
   "execution_count": 93,
   "metadata": {},
   "outputs": [],
   "source": [
    "import statistics as std"
   ]
  },
  {
   "cell_type": "code",
   "execution_count": 94,
   "metadata": {},
   "outputs": [
    {
     "name": "stdout",
     "output_type": "stream",
     "text": [
      "Standard deviation using numpy.std() with default ddof=0 = 1.9493588689617927\n",
      "Standard deviation using numpy.std(dd0f=1) = 2.0548046676563256\n",
      "Standard deviation using pandas.std() = 2.0548046676563256\n"
     ]
    }
   ],
   "source": [
    "num_list = [3,3,4,6,6,7,7,7,8,9]\n",
    "\n",
    "df_num_list = pd.DataFrame(num_list)\n",
    "\n",
    "print('Standard deviation using numpy.std() with default ddof=0 = {}'.format(np.std(num_list)))\n",
    "\n",
    "print('Standard deviation using numpy.std(dd0f=1) = {}'.format(np.std(num_list, ddof=1)))\n",
    "\n",
    "print('Standard deviation using pandas.std() = {}'.format(df_num_list[0].std()))"
   ]
  },
  {
   "cell_type": "markdown",
   "metadata": {},
   "source": [
    "Recreate pandas .std() function"
   ]
  },
  {
   "cell_type": "code",
   "execution_count": 95,
   "metadata": {},
   "outputs": [
    {
     "name": "stdout",
     "output_type": "stream",
     "text": [
      "2.0548046676563256\n"
     ]
    }
   ],
   "source": [
    "# Used as a variable in the for loop\n",
    "overall_mean = np.mean(num_list)\n",
    "\n",
    "# Used as a variable in the for loop\n",
    "list_count = len(num_list)\n",
    "\n",
    "# Running total of the values summed in the for loop\n",
    "sum_of_nums = 0\n",
    "\n",
    "for num in num_list:\n",
    "    sum_of_nums += (num - overall_mean) ** 2\n",
    "    \n",
    "print((sum_of_nums / (list_count - 1)) ** 0.5)"
   ]
  }
 ],
 "metadata": {
  "kernelspec": {
   "display_name": "Python 3",
   "language": "python",
   "name": "python3"
  },
  "language_info": {
   "codemirror_mode": {
    "name": "ipython",
    "version": 3
   },
   "file_extension": ".py",
   "mimetype": "text/x-python",
   "name": "python",
   "nbconvert_exporter": "python",
   "pygments_lexer": "ipython3",
   "version": "3.7.1"
  }
 },
 "nbformat": 4,
 "nbformat_minor": 2
}
