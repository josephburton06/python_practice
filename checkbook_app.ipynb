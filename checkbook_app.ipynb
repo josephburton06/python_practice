{
 "cells": [
  {
   "cell_type": "code",
   "execution_count": 1,
   "metadata": {},
   "outputs": [],
   "source": [
    "import pandas as pd\n",
    "import numpy as np \n",
    "import random\n",
    "import datetime\n",
    "import radar"
   ]
  },
  {
   "cell_type": "code",
   "execution_count": 2,
   "metadata": {},
   "outputs": [
    {
     "data": {
      "text/html": [
       "<div>\n",
       "<style scoped>\n",
       "    .dataframe tbody tr th:only-of-type {\n",
       "        vertical-align: middle;\n",
       "    }\n",
       "\n",
       "    .dataframe tbody tr th {\n",
       "        vertical-align: top;\n",
       "    }\n",
       "\n",
       "    .dataframe thead th {\n",
       "        text-align: right;\n",
       "    }\n",
       "</style>\n",
       "<table border=\"1\" class=\"dataframe\">\n",
       "  <thead>\n",
       "    <tr style=\"text-align: right;\">\n",
       "      <th></th>\n",
       "      <th>transaction_type</th>\n",
       "      <th>transaction_type_desc</th>\n",
       "      <th>transaction_amount</th>\n",
       "      <th>date</th>\n",
       "      <th>time</th>\n",
       "    </tr>\n",
       "  </thead>\n",
       "  <tbody>\n",
       "    <tr>\n",
       "      <th>0</th>\n",
       "      <td>3</td>\n",
       "      <td>Lunch</td>\n",
       "      <td>-5.34</td>\n",
       "      <td>2016-01-01</td>\n",
       "      <td>11:40:47</td>\n",
       "    </tr>\n",
       "    <tr>\n",
       "      <th>1</th>\n",
       "      <td>5</td>\n",
       "      <td>Groceries</td>\n",
       "      <td>-55.93</td>\n",
       "      <td>2016-01-01</td>\n",
       "      <td>18:18:52</td>\n",
       "    </tr>\n",
       "    <tr>\n",
       "      <th>2</th>\n",
       "      <td>4</td>\n",
       "      <td>Dinner</td>\n",
       "      <td>-16.90</td>\n",
       "      <td>2016-01-02</td>\n",
       "      <td>19:10:45</td>\n",
       "    </tr>\n",
       "    <tr>\n",
       "      <th>3</th>\n",
       "      <td>4</td>\n",
       "      <td>Dinner</td>\n",
       "      <td>-16.88</td>\n",
       "      <td>2016-01-02</td>\n",
       "      <td>19:53:51</td>\n",
       "    </tr>\n",
       "    <tr>\n",
       "      <th>4</th>\n",
       "      <td>5</td>\n",
       "      <td>Groceries</td>\n",
       "      <td>-114.85</td>\n",
       "      <td>2016-01-03</td>\n",
       "      <td>17:42:01</td>\n",
       "    </tr>\n",
       "  </tbody>\n",
       "</table>\n",
       "</div>"
      ],
      "text/plain": [
       "   transaction_type transaction_type_desc  transaction_amount        date  \\\n",
       "0                 3                 Lunch               -5.34  2016-01-01   \n",
       "1                 5             Groceries              -55.93  2016-01-01   \n",
       "2                 4                Dinner              -16.90  2016-01-02   \n",
       "3                 4                Dinner              -16.88  2016-01-02   \n",
       "4                 5             Groceries             -114.85  2016-01-03   \n",
       "\n",
       "       time  \n",
       "0  11:40:47  \n",
       "1  18:18:52  \n",
       "2  19:10:45  \n",
       "3  19:53:51  \n",
       "4  17:42:01  "
      ]
     },
     "execution_count": 2,
     "metadata": {},
     "output_type": "execute_result"
    }
   ],
   "source": [
    "df_orig = pd.read_csv('checkbook.csv')\n",
    "df = df_orig.copy()\n",
    "df.head()"
   ]
  },
  {
   "cell_type": "code",
   "execution_count": 13,
   "metadata": {},
   "outputs": [],
   "source": [
    "def current_balance():\n",
    "    balance = '{:,.2f}'.format(df.transaction_amount.sum())\n",
    "    print('Your current balance is $' + balance + '.')"
   ]
  },
  {
   "cell_type": "code",
   "execution_count": 14,
   "metadata": {},
   "outputs": [
    {
     "name": "stdout",
     "output_type": "stream",
     "text": [
      "Your current balance is $5,564.12.\n"
     ]
    }
   ],
   "source": [
    "current_balance()"
   ]
  },
  {
   "cell_type": "markdown",
   "metadata": {},
   "source": [
    "## We'll get to the list below and may change the functions."
   ]
  },
  {
   "cell_type": "code",
   "execution_count": 3,
   "metadata": {},
   "outputs": [],
   "source": [
    "# print('~~~ Welcome to your terminal checkbook! ~~~')\n",
    "# while True:\n",
    "#     print('What would you like to do?')\n",
    "#     print('1) View current balance')\n",
    "#     print('2) Record a debit (withdraw)')\n",
    "#     print('3) Record a credit (deposit)')\n",
    "#     print('4) View transactions within a range of dates')\n",
    "#     print('5) View all transactions')\n",
    "#     print('6) View all transactions in a category')\n",
    "#     print('7) Exit')\n",
    "    \n",
    "#     choice_input = input('Your choice? ')"
   ]
  },
  {
   "cell_type": "code",
   "execution_count": null,
   "metadata": {},
   "outputs": [],
   "source": []
  },
  {
   "cell_type": "code",
   "execution_count": null,
   "metadata": {},
   "outputs": [],
   "source": []
  },
  {
   "cell_type": "code",
   "execution_count": null,
   "metadata": {},
   "outputs": [],
   "source": []
  },
  {
   "cell_type": "code",
   "execution_count": null,
   "metadata": {},
   "outputs": [],
   "source": []
  },
  {
   "cell_type": "code",
   "execution_count": null,
   "metadata": {},
   "outputs": [],
   "source": []
  },
  {
   "cell_type": "code",
   "execution_count": null,
   "metadata": {},
   "outputs": [],
   "source": []
  },
  {
   "cell_type": "code",
   "execution_count": null,
   "metadata": {},
   "outputs": [],
   "source": []
  },
  {
   "cell_type": "code",
   "execution_count": null,
   "metadata": {},
   "outputs": [],
   "source": []
  }
 ],
 "metadata": {
  "kernelspec": {
   "display_name": "Python 3",
   "language": "python",
   "name": "python3"
  },
  "language_info": {
   "codemirror_mode": {
    "name": "ipython",
    "version": 3
   },
   "file_extension": ".py",
   "mimetype": "text/x-python",
   "name": "python",
   "nbconvert_exporter": "python",
   "pygments_lexer": "ipython3",
   "version": "3.7.1"
  }
 },
 "nbformat": 4,
 "nbformat_minor": 2
}
