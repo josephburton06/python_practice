{
 "cells": [
  {
   "cell_type": "code",
   "execution_count": 18,
   "metadata": {},
   "outputs": [],
   "source": [
    "import pandas as pd\n",
    "import numpy as np \n",
    "import random\n",
    "import datetime\n",
    "import radar"
   ]
  },
  {
   "cell_type": "markdown",
   "metadata": {},
   "source": [
    "## This notebook is used to create a list of transactions spanning 482 days for an individual.  An effort is made to create transaction types and keep them in reasonable ranges as it pertains to dollar amount and time of day this type of transaction may occur.  These transactions will be used in a 'checkbook app' which will allow a customer to create a new transaction and also gather information on previous transactions.\n",
    "\n",
    "## Note: This user is paying their regular bills with some other card/account.  This user doesn't have direct deposit or routine deposits.\n",
    "\n",
    "## We will start with functions for each transaction type.  The function will take an integer to be used to create that number of transactions.  In each function, we are hardcoding ranges for dollar amounts and times of day for transactions."
   ]
  },
  {
   "cell_type": "code",
   "execution_count": 139,
   "metadata": {},
   "outputs": [],
   "source": [
    "def create_deposit(count):\n",
    "    count = list(range(1, count))\n",
    "    transaction_type = []\n",
    "    transaction_type_desc = []\n",
    "    costs = []\n",
    "    dates = []\n",
    "    times = []\n",
    "    for num in count:\n",
    "        transaction_type.append(1)\n",
    "        transaction_type_desc.append('Deposit')\n",
    "        costs.append(round(random.uniform(20.00, 1025.00),2))\n",
    "        dates.append(str(radar.random_date(start=datetime.datetime(year=2019, month=1, day=1), stop=datetime.datetime(year=2020, month=3, day=13))).split(' ')[0])\n",
    "        times.append(str(radar.random_time(start='2020-01-01T17:15:00', stop='2020-01-01T17:54:59')))\n",
    "    return pd.DataFrame(list(zip(transaction_type, transaction_type_desc, costs, dates, times)), columns=['transaction_type', 'transaction_type_desc', 'transaction_amount', 'date', 'time'])  "
   ]
  },
  {
   "cell_type": "code",
   "execution_count": 156,
   "metadata": {},
   "outputs": [],
   "source": [
    "deposits = create_deposit(67)"
   ]
  },
  {
   "cell_type": "code",
   "execution_count": 172,
   "metadata": {},
   "outputs": [],
   "source": [
    "def create_withdrawl(count):\n",
    "    count = list(range(1, count))\n",
    "    transaction_type = []\n",
    "    transaction_type_desc = []\n",
    "    costs = []\n",
    "    dates = []\n",
    "    times = []\n",
    "    for num in count:\n",
    "        transaction_type.append(2)\n",
    "        transaction_type_desc.append('ATM Withdrawal')\n",
    "        costs.append((random.randint(1,20))*-20)\n",
    "        dates.append(str(radar.random_date(start=datetime.datetime(year=2019, month=1, day=1), stop=datetime.datetime(year=2020, month=3, day=13))).split(' ')[0])\n",
    "        times.append(str(radar.random_time(start='2020-01-01T17:07:00', stop='2020-01-01T23:39:59')))\n",
    "    return pd.DataFrame(list(zip(transaction_type, transaction_type_desc, costs, dates, times)), columns=['transaction_type', 'transaction_type_desc', 'transaction_amount', 'date', 'time'])  "
   ]
  },
  {
   "cell_type": "code",
   "execution_count": 173,
   "metadata": {},
   "outputs": [],
   "source": [
    "withdrawls = create_withdrawl(89)"
   ]
  },
  {
   "cell_type": "code",
   "execution_count": 174,
   "metadata": {},
   "outputs": [
    {
     "data": {
      "text/html": [
       "<div>\n",
       "<style scoped>\n",
       "    .dataframe tbody tr th:only-of-type {\n",
       "        vertical-align: middle;\n",
       "    }\n",
       "\n",
       "    .dataframe tbody tr th {\n",
       "        vertical-align: top;\n",
       "    }\n",
       "\n",
       "    .dataframe thead th {\n",
       "        text-align: right;\n",
       "    }\n",
       "</style>\n",
       "<table border=\"1\" class=\"dataframe\">\n",
       "  <thead>\n",
       "    <tr style=\"text-align: right;\">\n",
       "      <th></th>\n",
       "      <th>transaction_type</th>\n",
       "      <th>transaction_type_desc</th>\n",
       "      <th>transaction_amount</th>\n",
       "      <th>date</th>\n",
       "      <th>time</th>\n",
       "    </tr>\n",
       "  </thead>\n",
       "  <tbody>\n",
       "    <tr>\n",
       "      <th>0</th>\n",
       "      <td>2</td>\n",
       "      <td>ATM Withdrawal</td>\n",
       "      <td>-300</td>\n",
       "      <td>2019-01-30</td>\n",
       "      <td>23:09:59</td>\n",
       "    </tr>\n",
       "    <tr>\n",
       "      <th>1</th>\n",
       "      <td>2</td>\n",
       "      <td>ATM Withdrawal</td>\n",
       "      <td>-180</td>\n",
       "      <td>2019-11-02</td>\n",
       "      <td>17:39:31</td>\n",
       "    </tr>\n",
       "    <tr>\n",
       "      <th>2</th>\n",
       "      <td>2</td>\n",
       "      <td>ATM Withdrawal</td>\n",
       "      <td>-400</td>\n",
       "      <td>2019-01-04</td>\n",
       "      <td>20:07:49</td>\n",
       "    </tr>\n",
       "    <tr>\n",
       "      <th>3</th>\n",
       "      <td>2</td>\n",
       "      <td>ATM Withdrawal</td>\n",
       "      <td>-200</td>\n",
       "      <td>2019-12-15</td>\n",
       "      <td>20:34:46</td>\n",
       "    </tr>\n",
       "    <tr>\n",
       "      <th>4</th>\n",
       "      <td>2</td>\n",
       "      <td>ATM Withdrawal</td>\n",
       "      <td>-320</td>\n",
       "      <td>2020-01-30</td>\n",
       "      <td>19:15:23</td>\n",
       "    </tr>\n",
       "  </tbody>\n",
       "</table>\n",
       "</div>"
      ],
      "text/plain": [
       "   transaction_type transaction_type_desc  transaction_amount        date  \\\n",
       "0                 2        ATM Withdrawal                -300  2019-01-30   \n",
       "1                 2        ATM Withdrawal                -180  2019-11-02   \n",
       "2                 2        ATM Withdrawal                -400  2019-01-04   \n",
       "3                 2        ATM Withdrawal                -200  2019-12-15   \n",
       "4                 2        ATM Withdrawal                -320  2020-01-30   \n",
       "\n",
       "       time  \n",
       "0  23:09:59  \n",
       "1  17:39:31  \n",
       "2  20:07:49  \n",
       "3  20:34:46  \n",
       "4  19:15:23  "
      ]
     },
     "execution_count": 174,
     "metadata": {},
     "output_type": "execute_result"
    }
   ],
   "source": [
    "withdrawls.head()"
   ]
  },
  {
   "cell_type": "code",
   "execution_count": 175,
   "metadata": {},
   "outputs": [],
   "source": [
    "def create_lunch(count):\n",
    "    count = list(range(1, count))\n",
    "    transaction_type = []\n",
    "    transaction_type_desc = []\n",
    "    costs = []\n",
    "    dates = []\n",
    "    times = []\n",
    "    for num in count:\n",
    "        transaction_type.append(3)\n",
    "        transaction_type_desc.append('Lunch')\n",
    "        costs.append(round(random.uniform(-12.50, -5.00),2))\n",
    "        dates.append(str(radar.random_date(start=datetime.datetime(year=2019, month=1, day=1), stop=datetime.datetime(year=2020, month=3, day=13))).split(' ')[0])\n",
    "        times.append(str(radar.random_time(start='2020-01-01T11:25:00', stop='2020-01-01T13:39:59')))\n",
    "    return pd.DataFrame(list(zip(transaction_type, transaction_type_desc, costs, dates, times)), columns=['transaction_type', 'transaction_type_desc', 'transaction_amount', 'date', 'time'])  "
   ]
  },
  {
   "cell_type": "code",
   "execution_count": 176,
   "metadata": {},
   "outputs": [],
   "source": [
    "lunch_costs = create_lunch(133)"
   ]
  },
  {
   "cell_type": "code",
   "execution_count": 177,
   "metadata": {},
   "outputs": [],
   "source": [
    "def create_dinner(count):\n",
    "    count = list(range(1, count))\n",
    "    transaction_type = []\n",
    "    transaction_type_desc = []\n",
    "    costs = []\n",
    "    dates = []\n",
    "    times = []\n",
    "    for num in count:\n",
    "        transaction_type.append(4)\n",
    "        transaction_type_desc.append('Dinner')\n",
    "        costs.append(round(random.uniform(-22.50, -14.50),2))\n",
    "        dates.append(str(radar.random_date(start=datetime.datetime(year=2019, month=1, day=1), stop=datetime.datetime(year=2020, month=3, day=13))).split(' ')[0])\n",
    "        times.append(str(radar.random_time(start='2020-01-01T19:05:00', stop='2020-01-01T21:59:59')))\n",
    "    return pd.DataFrame(list(zip(transaction_type, transaction_type_desc, costs, dates, times)), columns=['transaction_type', 'transaction_type_desc', 'transaction_amount', 'date', 'time'])  "
   ]
  },
  {
   "cell_type": "code",
   "execution_count": 178,
   "metadata": {},
   "outputs": [],
   "source": [
    "dinner_costs = create_dinner(96)"
   ]
  },
  {
   "cell_type": "code",
   "execution_count": 179,
   "metadata": {},
   "outputs": [],
   "source": [
    "def create_groceries(count):\n",
    "    count = list(range(1, count))\n",
    "    transaction_type = []\n",
    "    transaction_type_desc = []\n",
    "    costs = []\n",
    "    dates = []\n",
    "    times = []\n",
    "    for num in count:\n",
    "        transaction_type.append(5)\n",
    "        transaction_type_desc.append('Groceries')\n",
    "        costs.append(round(random.uniform(-125.50, -55.00),2))\n",
    "        dates.append(str(radar.random_date(start=datetime.datetime(year=2019, month=1, day=1), stop=datetime.datetime(year=2020, month=3, day=13))).split(' ')[0])\n",
    "        times.append(str(radar.random_time(start='2020-01-01T17:35:00', stop='2020-01-01T20:33:59')))\n",
    "    return pd.DataFrame(list(zip(transaction_type, transaction_type_desc, costs, dates, times)), columns=['transaction_type', 'transaction_type_desc', 'transaction_amount', 'date', 'time'])  "
   ]
  },
  {
   "cell_type": "code",
   "execution_count": 180,
   "metadata": {},
   "outputs": [],
   "source": [
    "groceries_costs = create_groceries(82)"
   ]
  },
  {
   "cell_type": "code",
   "execution_count": 181,
   "metadata": {},
   "outputs": [],
   "source": [
    "def create_gas(count):\n",
    "    count = list(range(1, count))\n",
    "    transaction_type = []\n",
    "    transaction_type_desc = []\n",
    "    costs = []\n",
    "    dates = []\n",
    "    times = []\n",
    "    for num in count:\n",
    "        transaction_type.append(6)\n",
    "        transaction_type_desc.append('Gas')\n",
    "        costs.append(round(random.uniform(-27.50, -14.00),2))\n",
    "        dates.append(str(radar.random_date(start=datetime.datetime(year=2019, month=1, day=1), stop=datetime.datetime(year=2020, month=3, day=13))).split(' ')[0])\n",
    "        times.append(str(radar.random_time(start='2020-01-01T17:35:00', stop='2020-01-01T20:33:59')))\n",
    "    return pd.DataFrame(list(zip(transaction_type, transaction_type_desc, costs, dates, times)), columns=['transaction_type', 'transaction_type_desc', 'transaction_amount', 'date', 'time'])  "
   ]
  },
  {
   "cell_type": "code",
   "execution_count": 182,
   "metadata": {},
   "outputs": [],
   "source": [
    "gas_costs = create_gas(94)"
   ]
  },
  {
   "cell_type": "markdown",
   "metadata": {},
   "source": [
    "## This is a good stopping point.  Our user will need more categories for types of transactions."
   ]
  },
  {
   "cell_type": "code",
   "execution_count": null,
   "metadata": {},
   "outputs": [],
   "source": []
  },
  {
   "cell_type": "code",
   "execution_count": 183,
   "metadata": {},
   "outputs": [
    {
     "data": {
      "text/html": [
       "<div>\n",
       "<style scoped>\n",
       "    .dataframe tbody tr th:only-of-type {\n",
       "        vertical-align: middle;\n",
       "    }\n",
       "\n",
       "    .dataframe tbody tr th {\n",
       "        vertical-align: top;\n",
       "    }\n",
       "\n",
       "    .dataframe thead th {\n",
       "        text-align: right;\n",
       "    }\n",
       "</style>\n",
       "<table border=\"1\" class=\"dataframe\">\n",
       "  <thead>\n",
       "    <tr style=\"text-align: right;\">\n",
       "      <th></th>\n",
       "      <th>transaction_type</th>\n",
       "      <th>transaction_type_desc</th>\n",
       "      <th>transaction_amount</th>\n",
       "      <th>date</th>\n",
       "      <th>time</th>\n",
       "    </tr>\n",
       "  </thead>\n",
       "  <tbody>\n",
       "    <tr>\n",
       "      <th>7</th>\n",
       "      <td>6</td>\n",
       "      <td>Gas</td>\n",
       "      <td>-24.84</td>\n",
       "      <td>2019-01-03</td>\n",
       "      <td>18:36:37</td>\n",
       "    </tr>\n",
       "    <tr>\n",
       "      <th>207</th>\n",
       "      <td>1</td>\n",
       "      <td>Deposit</td>\n",
       "      <td>668.75</td>\n",
       "      <td>2019-05-30</td>\n",
       "      <td>17:33:59</td>\n",
       "    </tr>\n",
       "    <tr>\n",
       "      <th>310</th>\n",
       "      <td>2</td>\n",
       "      <td>ATM Withdrawal</td>\n",
       "      <td>-80.00</td>\n",
       "      <td>2019-08-18</td>\n",
       "      <td>23:08:50</td>\n",
       "    </tr>\n",
       "    <tr>\n",
       "      <th>525</th>\n",
       "      <td>5</td>\n",
       "      <td>Groceries</td>\n",
       "      <td>-96.03</td>\n",
       "      <td>2020-02-20</td>\n",
       "      <td>19:24:12</td>\n",
       "    </tr>\n",
       "    <tr>\n",
       "      <th>552</th>\n",
       "      <td>2</td>\n",
       "      <td>ATM Withdrawal</td>\n",
       "      <td>-160.00</td>\n",
       "      <td>2020-03-11</td>\n",
       "      <td>18:25:13</td>\n",
       "    </tr>\n",
       "  </tbody>\n",
       "</table>\n",
       "</div>"
      ],
      "text/plain": [
       "     transaction_type transaction_type_desc  transaction_amount        date  \\\n",
       "7                   6                   Gas              -24.84  2019-01-03   \n",
       "207                 1               Deposit              668.75  2019-05-30   \n",
       "310                 2        ATM Withdrawal              -80.00  2019-08-18   \n",
       "525                 5             Groceries              -96.03  2020-02-20   \n",
       "552                 2        ATM Withdrawal             -160.00  2020-03-11   \n",
       "\n",
       "         time  \n",
       "7    18:36:37  \n",
       "207  17:33:59  \n",
       "310  23:08:50  \n",
       "525  19:24:12  \n",
       "552  18:25:13  "
      ]
     },
     "execution_count": 183,
     "metadata": {},
     "output_type": "execute_result"
    }
   ],
   "source": [
    "final_df = pd.concat([deposits,withdrawls,lunch_costs,dinner_costs,groceries_costs,gas_costs], ignore_index=True).sort_values(by=['date','time']).reset_index(drop=True)\n",
    "final_df.sample(5).sort_values(by=['date','time'])"
   ]
  },
  {
   "cell_type": "code",
   "execution_count": 184,
   "metadata": {},
   "outputs": [
    {
     "data": {
      "text/plain": [
       "555"
      ]
     },
     "execution_count": 184,
     "metadata": {},
     "output_type": "execute_result"
    }
   ],
   "source": [
    "final_df.shape[0]"
   ]
  },
  {
   "cell_type": "code",
   "execution_count": 185,
   "metadata": {},
   "outputs": [
    {
     "data": {
      "text/html": [
       "<div>\n",
       "<style scoped>\n",
       "    .dataframe tbody tr th:only-of-type {\n",
       "        vertical-align: middle;\n",
       "    }\n",
       "\n",
       "    .dataframe tbody tr th {\n",
       "        vertical-align: top;\n",
       "    }\n",
       "\n",
       "    .dataframe thead th {\n",
       "        text-align: right;\n",
       "    }\n",
       "</style>\n",
       "<table border=\"1\" class=\"dataframe\">\n",
       "  <thead>\n",
       "    <tr style=\"text-align: right;\">\n",
       "      <th></th>\n",
       "      <th>transaction_amount</th>\n",
       "    </tr>\n",
       "  </thead>\n",
       "  <tbody>\n",
       "    <tr>\n",
       "      <th>min</th>\n",
       "      <td>-400.000000</td>\n",
       "    </tr>\n",
       "    <tr>\n",
       "      <th>mean</th>\n",
       "      <td>12.686991</td>\n",
       "    </tr>\n",
       "    <tr>\n",
       "      <th>max</th>\n",
       "      <td>1009.510000</td>\n",
       "    </tr>\n",
       "    <tr>\n",
       "      <th>sum</th>\n",
       "      <td>7041.280000</td>\n",
       "    </tr>\n",
       "  </tbody>\n",
       "</table>\n",
       "</div>"
      ],
      "text/plain": [
       "      transaction_amount\n",
       "min          -400.000000\n",
       "mean           12.686991\n",
       "max          1009.510000\n",
       "sum          7041.280000"
      ]
     },
     "execution_count": 185,
     "metadata": {},
     "output_type": "execute_result"
    }
   ],
   "source": [
    "final_df[['transaction_amount']].agg(['min', 'mean', 'max', 'sum'])"
   ]
  },
  {
   "cell_type": "code",
   "execution_count": null,
   "metadata": {},
   "outputs": [],
   "source": []
  },
  {
   "cell_type": "code",
   "execution_count": null,
   "metadata": {},
   "outputs": [],
   "source": []
  },
  {
   "cell_type": "code",
   "execution_count": null,
   "metadata": {},
   "outputs": [],
   "source": []
  },
  {
   "cell_type": "code",
   "execution_count": null,
   "metadata": {},
   "outputs": [],
   "source": []
  },
  {
   "cell_type": "code",
   "execution_count": null,
   "metadata": {},
   "outputs": [],
   "source": []
  },
  {
   "cell_type": "code",
   "execution_count": null,
   "metadata": {},
   "outputs": [],
   "source": []
  },
  {
   "cell_type": "code",
   "execution_count": null,
   "metadata": {},
   "outputs": [],
   "source": []
  },
  {
   "cell_type": "code",
   "execution_count": null,
   "metadata": {},
   "outputs": [],
   "source": []
  }
 ],
 "metadata": {
  "kernelspec": {
   "display_name": "Python 3",
   "language": "python",
   "name": "python3"
  },
  "language_info": {
   "codemirror_mode": {
    "name": "ipython",
    "version": 3
   },
   "file_extension": ".py",
   "mimetype": "text/x-python",
   "name": "python",
   "nbconvert_exporter": "python",
   "pygments_lexer": "ipython3",
   "version": "3.7.1"
  }
 },
 "nbformat": 4,
 "nbformat_minor": 2
}
