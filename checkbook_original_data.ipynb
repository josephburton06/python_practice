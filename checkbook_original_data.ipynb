{
 "cells": [
  {
   "cell_type": "code",
   "execution_count": 18,
   "metadata": {},
   "outputs": [],
   "source": [
    "import pandas as pd\n",
    "import numpy as np \n",
    "import random\n",
    "import datetime\n",
    "import radar"
   ]
  },
  {
   "cell_type": "markdown",
   "metadata": {},
   "source": [
    "## This notebook is used to create a list of transactions spanning 482 days for an individual.  An effort is made to create transaction types and keep them in reasonable ranges as it pertains to dollar amount and time of day this type of transaction may occur.  These transactions will be used in a 'checkbook app' which will allow a customer to create a new transaction and also gather information on previous transactions.\n",
    "\n",
    "## Note: This user is paying their regular bills with some other card/account.  This user doesn't have direct deposit or routine deposits.\n",
    "\n",
    "## We will start with functions for each transaction type.  The function will take an integer to be used to create that number of transactions.  In each function, we are hardcoding ranges for dollar amounts and times of day for transactions."
   ]
  },
  {
   "cell_type": "code",
   "execution_count": 139,
   "metadata": {},
   "outputs": [],
   "source": [
    "def create_deposit(count):\n",
    "    count = list(range(1, count))\n",
    "    transaction_type = []\n",
    "    transaction_type_desc = []\n",
    "    costs = []\n",
    "    dates = []\n",
    "    times = []\n",
    "    for num in count:\n",
    "        transaction_type.append(1)\n",
    "        transaction_type_desc.append('Deposit')\n",
    "        costs.append(round(random.uniform(20.00, 1025.00),2))\n",
    "        dates.append(str(radar.random_date(start=datetime.datetime(year=2019, month=1, day=1), stop=datetime.datetime(year=2020, month=3, day=13))).split(' ')[0])\n",
    "        times.append(str(radar.random_time(start='2020-01-01T17:15:00', stop='2020-01-01T17:54:59')))\n",
    "    return pd.DataFrame(list(zip(transaction_type, transaction_type_desc, costs, dates, times)), columns=['transaction_type', 'transaction_type_desc', 'transaction_amount', 'date', 'time'])  "
   ]
  },
  {
   "cell_type": "code",
   "execution_count": 156,
   "metadata": {},
   "outputs": [],
   "source": [
    "deposits = create_deposit(67)"
   ]
  },
  {
   "cell_type": "code",
   "execution_count": 157,
   "metadata": {},
   "outputs": [],
   "source": [
    "def create_withdrawl(count):\n",
    "    count = list(range(1, count))\n",
    "    transaction_type = []\n",
    "    transaction_type_desc = []\n",
    "    costs = []\n",
    "    dates = []\n",
    "    times = []\n",
    "    for num in count:\n",
    "        transaction_type.append(2)\n",
    "        transaction_type_desc.append('ATM Withdrawal')\n",
    "        costs.append((random.randint(1,20))*20)\n",
    "        dates.append(str(radar.random_date(start=datetime.datetime(year=2019, month=1, day=1), stop=datetime.datetime(year=2020, month=3, day=13))).split(' ')[0])\n",
    "        times.append(str(radar.random_time(start='2020-01-01T17:07:00', stop='2020-01-01T23:39:59')))\n",
    "    return pd.DataFrame(list(zip(transaction_type, transaction_type_desc, costs, dates, times)), columns=['transaction_type', 'transaction_type_desc', 'transaction_amount', 'date', 'time'])  "
   ]
  },
  {
   "cell_type": "code",
   "execution_count": 158,
   "metadata": {},
   "outputs": [],
   "source": [
    "withdrawls = create_withdrawl(89)"
   ]
  },
  {
   "cell_type": "code",
   "execution_count": 159,
   "metadata": {},
   "outputs": [
    {
     "data": {
      "text/html": [
       "<div>\n",
       "<style scoped>\n",
       "    .dataframe tbody tr th:only-of-type {\n",
       "        vertical-align: middle;\n",
       "    }\n",
       "\n",
       "    .dataframe tbody tr th {\n",
       "        vertical-align: top;\n",
       "    }\n",
       "\n",
       "    .dataframe thead th {\n",
       "        text-align: right;\n",
       "    }\n",
       "</style>\n",
       "<table border=\"1\" class=\"dataframe\">\n",
       "  <thead>\n",
       "    <tr style=\"text-align: right;\">\n",
       "      <th></th>\n",
       "      <th>transaction_type</th>\n",
       "      <th>transaction_type_desc</th>\n",
       "      <th>transaction_amount</th>\n",
       "      <th>date</th>\n",
       "      <th>time</th>\n",
       "    </tr>\n",
       "  </thead>\n",
       "  <tbody>\n",
       "    <tr>\n",
       "      <th>0</th>\n",
       "      <td>2</td>\n",
       "      <td>ATM Withdrawal</td>\n",
       "      <td>160</td>\n",
       "      <td>2019-03-18</td>\n",
       "      <td>17:28:08</td>\n",
       "    </tr>\n",
       "    <tr>\n",
       "      <th>1</th>\n",
       "      <td>2</td>\n",
       "      <td>ATM Withdrawal</td>\n",
       "      <td>340</td>\n",
       "      <td>2019-04-16</td>\n",
       "      <td>23:12:57</td>\n",
       "    </tr>\n",
       "    <tr>\n",
       "      <th>2</th>\n",
       "      <td>2</td>\n",
       "      <td>ATM Withdrawal</td>\n",
       "      <td>160</td>\n",
       "      <td>2019-01-13</td>\n",
       "      <td>18:53:21</td>\n",
       "    </tr>\n",
       "    <tr>\n",
       "      <th>3</th>\n",
       "      <td>2</td>\n",
       "      <td>ATM Withdrawal</td>\n",
       "      <td>100</td>\n",
       "      <td>2019-12-22</td>\n",
       "      <td>18:12:30</td>\n",
       "    </tr>\n",
       "    <tr>\n",
       "      <th>4</th>\n",
       "      <td>2</td>\n",
       "      <td>ATM Withdrawal</td>\n",
       "      <td>40</td>\n",
       "      <td>2019-02-10</td>\n",
       "      <td>17:18:17</td>\n",
       "    </tr>\n",
       "  </tbody>\n",
       "</table>\n",
       "</div>"
      ],
      "text/plain": [
       "   transaction_type transaction_type_desc  transaction_amount        date  \\\n",
       "0                 2        ATM Withdrawal                 160  2019-03-18   \n",
       "1                 2        ATM Withdrawal                 340  2019-04-16   \n",
       "2                 2        ATM Withdrawal                 160  2019-01-13   \n",
       "3                 2        ATM Withdrawal                 100  2019-12-22   \n",
       "4                 2        ATM Withdrawal                  40  2019-02-10   \n",
       "\n",
       "       time  \n",
       "0  17:28:08  \n",
       "1  23:12:57  \n",
       "2  18:53:21  \n",
       "3  18:12:30  \n",
       "4  17:18:17  "
      ]
     },
     "execution_count": 159,
     "metadata": {},
     "output_type": "execute_result"
    }
   ],
   "source": [
    "withdrawls.head()"
   ]
  },
  {
   "cell_type": "code",
   "execution_count": 160,
   "metadata": {},
   "outputs": [],
   "source": [
    "def create_lunch(count):\n",
    "    count = list(range(1, count))\n",
    "    transaction_type = []\n",
    "    transaction_type_desc = []\n",
    "    costs = []\n",
    "    dates = []\n",
    "    times = []\n",
    "    for num in count:\n",
    "        transaction_type.append(3)\n",
    "        transaction_type_desc.append('Lunch')\n",
    "        costs.append(round(random.uniform(-12.50, -5.00),2))\n",
    "        dates.append(str(radar.random_date(start=datetime.datetime(year=2019, month=1, day=1), stop=datetime.datetime(year=2020, month=3, day=13))).split(' ')[0])\n",
    "        times.append(str(radar.random_time(start='2020-01-01T11:25:00', stop='2020-01-01T13:39:59')))\n",
    "    return pd.DataFrame(list(zip(transaction_type, transaction_type_desc, costs, dates, times)), columns=['transaction_type', 'transaction_type_desc', 'transaction_amount', 'date', 'time'])  "
   ]
  },
  {
   "cell_type": "code",
   "execution_count": 161,
   "metadata": {},
   "outputs": [],
   "source": [
    "lunch_costs = create_lunch(133)"
   ]
  },
  {
   "cell_type": "code",
   "execution_count": 162,
   "metadata": {},
   "outputs": [],
   "source": [
    "def create_dinner(count):\n",
    "    count = list(range(1, count))\n",
    "    transaction_type = []\n",
    "    transaction_type_desc = []\n",
    "    costs = []\n",
    "    dates = []\n",
    "    times = []\n",
    "    for num in count:\n",
    "        transaction_type.append(4)\n",
    "        transaction_type_desc.append('Dinner')\n",
    "        costs.append(round(random.uniform(-22.50, -14.50),2))\n",
    "        dates.append(str(radar.random_date(start=datetime.datetime(year=2019, month=1, day=1), stop=datetime.datetime(year=2020, month=3, day=13))).split(' ')[0])\n",
    "        times.append(str(radar.random_time(start='2020-01-01T19:05:00', stop='2020-01-01T21:59:59')))\n",
    "    return pd.DataFrame(list(zip(transaction_type, transaction_type_desc, costs, dates, times)), columns=['transaction_type', 'transaction_type_desc', 'transaction_amount', 'date', 'time'])  "
   ]
  },
  {
   "cell_type": "code",
   "execution_count": 163,
   "metadata": {},
   "outputs": [],
   "source": [
    "dinner_costs = create_dinner(96)"
   ]
  },
  {
   "cell_type": "code",
   "execution_count": 164,
   "metadata": {},
   "outputs": [],
   "source": [
    "def create_groceries(count):\n",
    "    count = list(range(1, count))\n",
    "    transaction_type = []\n",
    "    transaction_type_desc = []\n",
    "    costs = []\n",
    "    dates = []\n",
    "    times = []\n",
    "    for num in count:\n",
    "        transaction_type.append(5)\n",
    "        transaction_type_desc.append('Groceries')\n",
    "        costs.append(round(random.uniform(-125.50, -55.00),2))\n",
    "        dates.append(str(radar.random_date(start=datetime.datetime(year=2019, month=1, day=1), stop=datetime.datetime(year=2020, month=3, day=13))).split(' ')[0])\n",
    "        times.append(str(radar.random_time(start='2020-01-01T17:35:00', stop='2020-01-01T20:33:59')))\n",
    "    return pd.DataFrame(list(zip(transaction_type, transaction_type_desc, costs, dates, times)), columns=['transaction_type', 'transaction_type_desc', 'transaction_amount', 'date', 'time'])  "
   ]
  },
  {
   "cell_type": "code",
   "execution_count": 165,
   "metadata": {},
   "outputs": [],
   "source": [
    "groceries_costs = create_groceries(82)"
   ]
  },
  {
   "cell_type": "code",
   "execution_count": 166,
   "metadata": {},
   "outputs": [],
   "source": [
    "def create_gas(count):\n",
    "    count = list(range(1, count))\n",
    "    transaction_type = []\n",
    "    transaction_type_desc = []\n",
    "    costs = []\n",
    "    dates = []\n",
    "    times = []\n",
    "    for num in count:\n",
    "        transaction_type.append(6)\n",
    "        transaction_type_desc.append('Gas')\n",
    "        costs.append(round(random.uniform(-27.50, -14.00),2))\n",
    "        dates.append(str(radar.random_date(start=datetime.datetime(year=2019, month=1, day=1), stop=datetime.datetime(year=2020, month=3, day=13))).split(' ')[0])\n",
    "        times.append(str(radar.random_time(start='2020-01-01T17:35:00', stop='2020-01-01T20:33:59')))\n",
    "    return pd.DataFrame(list(zip(transaction_type, transaction_type_desc, costs, dates, times)), columns=['transaction_type', 'transaction_type_desc', 'transaction_amount', 'date', 'time'])  "
   ]
  },
  {
   "cell_type": "code",
   "execution_count": 167,
   "metadata": {},
   "outputs": [],
   "source": [
    "gas_costs = create_gas(94)"
   ]
  },
  {
   "cell_type": "markdown",
   "metadata": {},
   "source": [
    "## This is a good stopping point.  Our user will need more categories for types of transactions."
   ]
  },
  {
   "cell_type": "code",
   "execution_count": null,
   "metadata": {},
   "outputs": [],
   "source": []
  },
  {
   "cell_type": "code",
   "execution_count": 169,
   "metadata": {},
   "outputs": [
    {
     "data": {
      "text/html": [
       "<div>\n",
       "<style scoped>\n",
       "    .dataframe tbody tr th:only-of-type {\n",
       "        vertical-align: middle;\n",
       "    }\n",
       "\n",
       "    .dataframe tbody tr th {\n",
       "        vertical-align: top;\n",
       "    }\n",
       "\n",
       "    .dataframe thead th {\n",
       "        text-align: right;\n",
       "    }\n",
       "</style>\n",
       "<table border=\"1\" class=\"dataframe\">\n",
       "  <thead>\n",
       "    <tr style=\"text-align: right;\">\n",
       "      <th></th>\n",
       "      <th>transaction_type</th>\n",
       "      <th>transaction_type_desc</th>\n",
       "      <th>transaction_amount</th>\n",
       "      <th>date</th>\n",
       "      <th>time</th>\n",
       "    </tr>\n",
       "  </thead>\n",
       "  <tbody>\n",
       "    <tr>\n",
       "      <th>27</th>\n",
       "      <td>2</td>\n",
       "      <td>ATM Withdrawal</td>\n",
       "      <td>80.00</td>\n",
       "      <td>2019-01-29</td>\n",
       "      <td>19:25:52</td>\n",
       "    </tr>\n",
       "    <tr>\n",
       "      <th>104</th>\n",
       "      <td>6</td>\n",
       "      <td>Gas</td>\n",
       "      <td>-24.99</td>\n",
       "      <td>2019-03-26</td>\n",
       "      <td>19:03:55</td>\n",
       "    </tr>\n",
       "    <tr>\n",
       "      <th>310</th>\n",
       "      <td>4</td>\n",
       "      <td>Dinner</td>\n",
       "      <td>-19.00</td>\n",
       "      <td>2019-09-01</td>\n",
       "      <td>19:05:50</td>\n",
       "    </tr>\n",
       "    <tr>\n",
       "      <th>359</th>\n",
       "      <td>3</td>\n",
       "      <td>Lunch</td>\n",
       "      <td>-7.19</td>\n",
       "      <td>2019-10-03</td>\n",
       "      <td>13:26:07</td>\n",
       "    </tr>\n",
       "    <tr>\n",
       "      <th>431</th>\n",
       "      <td>5</td>\n",
       "      <td>Groceries</td>\n",
       "      <td>-111.42</td>\n",
       "      <td>2019-11-25</td>\n",
       "      <td>18:27:40</td>\n",
       "    </tr>\n",
       "  </tbody>\n",
       "</table>\n",
       "</div>"
      ],
      "text/plain": [
       "     transaction_type transaction_type_desc  transaction_amount        date  \\\n",
       "27                  2        ATM Withdrawal               80.00  2019-01-29   \n",
       "104                 6                   Gas              -24.99  2019-03-26   \n",
       "310                 4                Dinner              -19.00  2019-09-01   \n",
       "359                 3                 Lunch               -7.19  2019-10-03   \n",
       "431                 5             Groceries             -111.42  2019-11-25   \n",
       "\n",
       "         time  \n",
       "27   19:25:52  \n",
       "104  19:03:55  \n",
       "310  19:05:50  \n",
       "359  13:26:07  \n",
       "431  18:27:40  "
      ]
     },
     "execution_count": 169,
     "metadata": {},
     "output_type": "execute_result"
    }
   ],
   "source": [
    "final_df = pd.concat([deposits,withdrawls,lunch_costs,dinner_costs,groceries_costs,gas_costs], ignore_index=True).sort_values(by=['date','time']).reset_index(drop=True)\n",
    "final_df.sample(5).sort_values(by=['date','time'])"
   ]
  },
  {
   "cell_type": "code",
   "execution_count": 170,
   "metadata": {},
   "outputs": [
    {
     "data": {
      "text/plain": [
       "555"
      ]
     },
     "execution_count": 170,
     "metadata": {},
     "output_type": "execute_result"
    }
   ],
   "source": [
    "final_df.shape[0]"
   ]
  },
  {
   "cell_type": "code",
   "execution_count": 171,
   "metadata": {},
   "outputs": [
    {
     "data": {
      "text/html": [
       "<div>\n",
       "<style scoped>\n",
       "    .dataframe tbody tr th:only-of-type {\n",
       "        vertical-align: middle;\n",
       "    }\n",
       "\n",
       "    .dataframe tbody tr th {\n",
       "        vertical-align: top;\n",
       "    }\n",
       "\n",
       "    .dataframe thead th {\n",
       "        text-align: right;\n",
       "    }\n",
       "</style>\n",
       "<table border=\"1\" class=\"dataframe\">\n",
       "  <thead>\n",
       "    <tr style=\"text-align: right;\">\n",
       "      <th></th>\n",
       "      <th>transaction_amount</th>\n",
       "    </tr>\n",
       "  </thead>\n",
       "  <tbody>\n",
       "    <tr>\n",
       "      <th>min</th>\n",
       "      <td>-124.960000</td>\n",
       "    </tr>\n",
       "    <tr>\n",
       "      <th>mean</th>\n",
       "      <td>74.531495</td>\n",
       "    </tr>\n",
       "    <tr>\n",
       "      <th>max</th>\n",
       "      <td>1009.510000</td>\n",
       "    </tr>\n",
       "    <tr>\n",
       "      <th>sum</th>\n",
       "      <td>41364.980000</td>\n",
       "    </tr>\n",
       "  </tbody>\n",
       "</table>\n",
       "</div>"
      ],
      "text/plain": [
       "      transaction_amount\n",
       "min          -124.960000\n",
       "mean           74.531495\n",
       "max          1009.510000\n",
       "sum         41364.980000"
      ]
     },
     "execution_count": 171,
     "metadata": {},
     "output_type": "execute_result"
    }
   ],
   "source": [
    "final_df[['transaction_amount']].agg(['min', 'mean', 'max', 'sum'])"
   ]
  },
  {
   "cell_type": "code",
   "execution_count": null,
   "metadata": {},
   "outputs": [],
   "source": []
  },
  {
   "cell_type": "code",
   "execution_count": null,
   "metadata": {},
   "outputs": [],
   "source": []
  },
  {
   "cell_type": "code",
   "execution_count": null,
   "metadata": {},
   "outputs": [],
   "source": []
  },
  {
   "cell_type": "code",
   "execution_count": null,
   "metadata": {},
   "outputs": [],
   "source": []
  },
  {
   "cell_type": "code",
   "execution_count": null,
   "metadata": {},
   "outputs": [],
   "source": []
  },
  {
   "cell_type": "code",
   "execution_count": null,
   "metadata": {},
   "outputs": [],
   "source": []
  },
  {
   "cell_type": "code",
   "execution_count": null,
   "metadata": {},
   "outputs": [],
   "source": []
  },
  {
   "cell_type": "code",
   "execution_count": null,
   "metadata": {},
   "outputs": [],
   "source": []
  }
 ],
 "metadata": {
  "kernelspec": {
   "display_name": "Python 3",
   "language": "python",
   "name": "python3"
  },
  "language_info": {
   "codemirror_mode": {
    "name": "ipython",
    "version": 3
   },
   "file_extension": ".py",
   "mimetype": "text/x-python",
   "name": "python",
   "nbconvert_exporter": "python",
   "pygments_lexer": "ipython3",
   "version": "3.7.1"
  }
 },
 "nbformat": 4,
 "nbformat_minor": 2
}
