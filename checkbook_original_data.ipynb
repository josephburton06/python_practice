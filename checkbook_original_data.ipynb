{
 "cells": [
  {
   "cell_type": "code",
   "execution_count": 18,
   "metadata": {},
   "outputs": [],
   "source": [
    "import pandas as pd\n",
    "import numpy as np \n",
    "import random\n",
    "import datetime\n",
    "import radar"
   ]
  },
  {
   "cell_type": "markdown",
   "metadata": {},
   "source": [
    "## This notebook is used to create a list of transactions spanning 482 days for an individual.  An effort is made to create transaction types and keep them in reasonable ranges as it pertains to dollar amount and time of day this type of transaction may occur.  These transactions will be used in a 'checkbook app' which will allow a customer to create a new transaction and also gather information on previous transactions.\n",
    "\n",
    "## Note: This user is paying their regular bills with some other card/account.  This user doesn't have direct deposit or routine deposits.\n",
    "\n",
    "## We will start with functions for each transaction type.  The function will take an integer to be used to create "
   ]
  },
  {
   "cell_type": "code",
   "execution_count": 80,
   "metadata": {},
   "outputs": [],
   "source": [
    "def create_lunch(count):\n",
    "    count = list(range(1, count))\n",
    "    transaction_type = []\n",
    "    transaction_type_desc = []\n",
    "    costs = []\n",
    "    dates = []\n",
    "    times = []\n",
    "    for num in count:\n",
    "        transaction_type.append(2)\n",
    "        transaction_type_desc.append('Lunch')\n",
    "        costs.append(round(random.uniform(-12.50, -5.00),2))\n",
    "        dates.append(str(radar.random_date(start=datetime.datetime(year=2019, month=1, day=1), stop=datetime.datetime(year=2020, month=3, day=13))).split(' ')[0])\n",
    "        times.append(str(radar.random_time(start='2020-01-01T11:25:00', stop='2020-01-01T13:39:59')))\n",
    "    return pd.DataFrame(list(zip(transaction_type, transaction_type_desc, costs, dates, times)), columns=['transaction_type', 'transaction_type_desc', 'transaction_amount', 'date', 'time'])  "
   ]
  },
  {
   "cell_type": "code",
   "execution_count": 81,
   "metadata": {},
   "outputs": [],
   "source": [
    "lunch_costs = create_lunch(133)"
   ]
  },
  {
   "cell_type": "code",
   "execution_count": 82,
   "metadata": {},
   "outputs": [
    {
     "data": {
      "text/html": [
       "<div>\n",
       "<style scoped>\n",
       "    .dataframe tbody tr th:only-of-type {\n",
       "        vertical-align: middle;\n",
       "    }\n",
       "\n",
       "    .dataframe tbody tr th {\n",
       "        vertical-align: top;\n",
       "    }\n",
       "\n",
       "    .dataframe thead th {\n",
       "        text-align: right;\n",
       "    }\n",
       "</style>\n",
       "<table border=\"1\" class=\"dataframe\">\n",
       "  <thead>\n",
       "    <tr style=\"text-align: right;\">\n",
       "      <th></th>\n",
       "      <th>transaction_type</th>\n",
       "      <th>transaction_type_desc</th>\n",
       "      <th>transaction_amount</th>\n",
       "      <th>date</th>\n",
       "      <th>time</th>\n",
       "    </tr>\n",
       "  </thead>\n",
       "  <tbody>\n",
       "    <tr>\n",
       "      <th>0</th>\n",
       "      <td>2</td>\n",
       "      <td>Lunch</td>\n",
       "      <td>-6.79</td>\n",
       "      <td>2019-07-29</td>\n",
       "      <td>13:20:58</td>\n",
       "    </tr>\n",
       "    <tr>\n",
       "      <th>1</th>\n",
       "      <td>2</td>\n",
       "      <td>Lunch</td>\n",
       "      <td>-5.86</td>\n",
       "      <td>2019-06-12</td>\n",
       "      <td>12:10:04</td>\n",
       "    </tr>\n",
       "    <tr>\n",
       "      <th>2</th>\n",
       "      <td>2</td>\n",
       "      <td>Lunch</td>\n",
       "      <td>-10.08</td>\n",
       "      <td>2019-09-03</td>\n",
       "      <td>12:15:53</td>\n",
       "    </tr>\n",
       "    <tr>\n",
       "      <th>3</th>\n",
       "      <td>2</td>\n",
       "      <td>Lunch</td>\n",
       "      <td>-6.65</td>\n",
       "      <td>2019-12-05</td>\n",
       "      <td>11:52:55</td>\n",
       "    </tr>\n",
       "    <tr>\n",
       "      <th>4</th>\n",
       "      <td>2</td>\n",
       "      <td>Lunch</td>\n",
       "      <td>-10.83</td>\n",
       "      <td>2019-02-16</td>\n",
       "      <td>12:12:13</td>\n",
       "    </tr>\n",
       "  </tbody>\n",
       "</table>\n",
       "</div>"
      ],
      "text/plain": [
       "   transaction_type transaction_type_desc  transaction_amount        date  \\\n",
       "0                 2                 Lunch               -6.79  2019-07-29   \n",
       "1                 2                 Lunch               -5.86  2019-06-12   \n",
       "2                 2                 Lunch              -10.08  2019-09-03   \n",
       "3                 2                 Lunch               -6.65  2019-12-05   \n",
       "4                 2                 Lunch              -10.83  2019-02-16   \n",
       "\n",
       "       time  \n",
       "0  13:20:58  \n",
       "1  12:10:04  \n",
       "2  12:15:53  \n",
       "3  11:52:55  \n",
       "4  12:12:13  "
      ]
     },
     "execution_count": 82,
     "metadata": {},
     "output_type": "execute_result"
    }
   ],
   "source": [
    "lunch_costs.head()"
   ]
  },
  {
   "cell_type": "code",
   "execution_count": 83,
   "metadata": {},
   "outputs": [],
   "source": [
    "def create_dinner(count):\n",
    "    count = list(range(1, count))\n",
    "    transaction_type = []\n",
    "    transaction_type_desc = []\n",
    "    costs = []\n",
    "    dates = []\n",
    "    times = []\n",
    "    for num in count:\n",
    "        transaction_type.append(3)\n",
    "        transaction_type_desc.append('Dinner')\n",
    "        costs.append(round(random.uniform(-22.50, -14.50),2))\n",
    "        dates.append(str(radar.random_date(start=datetime.datetime(year=2019, month=1, day=1), stop=datetime.datetime(year=2020, month=3, day=13))).split(' ')[0])\n",
    "        times.append(str(radar.random_time(start='2020-01-01T19:05:00', stop='2020-01-01T21:59:59')))\n",
    "    return pd.DataFrame(list(zip(transaction_type, transaction_type_desc, costs, dates, times)), columns=['transaction_type', 'transaction_type_desc', 'transaction_amount', 'date', 'time'])  "
   ]
  },
  {
   "cell_type": "code",
   "execution_count": null,
   "metadata": {},
   "outputs": [],
   "source": [
    "dinner_costs = create_dinner(96)"
   ]
  },
  {
   "cell_type": "code",
   "execution_count": 61,
   "metadata": {},
   "outputs": [],
   "source": [
    "def create_groceries(count):\n",
    "    count = list(range(1, count))\n",
    "    transaction_type = []\n",
    "    costs = []\n",
    "    dates = []\n",
    "    for num in count:\n",
    "        transaction_type.append(3)\n",
    "        costs.append(round(random.uniform(-125.50, -55.00),2))\n",
    "        dates.append(str(radar.random_date(start=datetime.datetime(year=2019, month=1, day=1), stop=datetime.datetime(year=2020, month=3, day=13))).split(' ')[0])\n",
    "    return pd.DataFrame(list(zip(transaction_type ,costs, dates)), columns=['transaction_type','transaction_amount', 'date'])               "
   ]
  },
  {
   "cell_type": "code",
   "execution_count": 62,
   "metadata": {},
   "outputs": [],
   "source": [
    "groceries_costs = create_groceries(82)"
   ]
  },
  {
   "cell_type": "code",
   "execution_count": 63,
   "metadata": {},
   "outputs": [],
   "source": [
    "def create_gas(count):\n",
    "    count = list(range(1, count))\n",
    "    transaction_type = []\n",
    "    costs = []\n",
    "    dates = []\n",
    "    for num in count:\n",
    "        transaction_type.append(3)\n",
    "        costs.append(round(random.uniform(-27.50, -13.00),2))\n",
    "        dates.append(str(radar.random_date(start=datetime.datetime(year=2019, month=1, day=1), stop=datetime.datetime(year=2020, month=3, day=13))).split(' ')[0])\n",
    "    return pd.DataFrame(list(zip(transaction_type ,costs, dates)), columns=['transaction_type','transaction_amount', 'date'])               "
   ]
  },
  {
   "cell_type": "code",
   "execution_count": 64,
   "metadata": {},
   "outputs": [],
   "source": [
    "gas_costs = create_gas(94)"
   ]
  },
  {
   "cell_type": "code",
   "execution_count": null,
   "metadata": {},
   "outputs": [],
   "source": [
    "def create_(count):\n",
    "    count = list(range(1, count))\n",
    "    transaction_type = []\n",
    "    costs = []\n",
    "    dates = []\n",
    "    for num in count:\n",
    "        transaction_type.append(4)\n",
    "        costs.append(round(random.uniform(-27.50, -13.00),2))\n",
    "        dates.append(str(radar.random_date(start=datetime.datetime(year=2019, month=1, day=1), stop=datetime.datetime(year=2020, month=3, day=13))).split(' ')[0])\n",
    "    return pd.DataFrame(list(zip(transaction_type ,costs, dates)), columns=['transaction_type','transaction_amount', 'date'])               "
   ]
  },
  {
   "cell_type": "code",
   "execution_count": null,
   "metadata": {},
   "outputs": [],
   "source": []
  },
  {
   "cell_type": "code",
   "execution_count": null,
   "metadata": {},
   "outputs": [],
   "source": []
  },
  {
   "cell_type": "code",
   "execution_count": null,
   "metadata": {},
   "outputs": [],
   "source": []
  },
  {
   "cell_type": "code",
   "execution_count": null,
   "metadata": {},
   "outputs": [],
   "source": []
  },
  {
   "cell_type": "code",
   "execution_count": null,
   "metadata": {},
   "outputs": [],
   "source": []
  },
  {
   "cell_type": "code",
   "execution_count": null,
   "metadata": {},
   "outputs": [],
   "source": []
  },
  {
   "cell_type": "code",
   "execution_count": null,
   "metadata": {},
   "outputs": [],
   "source": []
  },
  {
   "cell_type": "code",
   "execution_count": null,
   "metadata": {},
   "outputs": [],
   "source": []
  },
  {
   "cell_type": "code",
   "execution_count": null,
   "metadata": {},
   "outputs": [],
   "source": []
  },
  {
   "cell_type": "code",
   "execution_count": null,
   "metadata": {},
   "outputs": [],
   "source": []
  },
  {
   "cell_type": "code",
   "execution_count": null,
   "metadata": {},
   "outputs": [],
   "source": []
  },
  {
   "cell_type": "code",
   "execution_count": null,
   "metadata": {},
   "outputs": [],
   "source": []
  },
  {
   "cell_type": "code",
   "execution_count": null,
   "metadata": {},
   "outputs": [],
   "source": []
  }
 ],
 "metadata": {
  "kernelspec": {
   "display_name": "Python 3",
   "language": "python",
   "name": "python3"
  },
  "language_info": {
   "codemirror_mode": {
    "name": "ipython",
    "version": 3
   },
   "file_extension": ".py",
   "mimetype": "text/x-python",
   "name": "python",
   "nbconvert_exporter": "python",
   "pygments_lexer": "ipython3",
   "version": "3.7.1"
  }
 },
 "nbformat": 4,
 "nbformat_minor": 2
}
