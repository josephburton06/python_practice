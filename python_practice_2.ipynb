{
 "cells": [
  {
   "cell_type": "code",
   "execution_count": 1,
   "metadata": {},
   "outputs": [],
   "source": [
    "import pandas as pd\n",
    "import numpy as np"
   ]
  },
  {
   "cell_type": "markdown",
   "metadata": {},
   "source": [
    "Given an array of ints, return True if one of the first 4 elements in the array is a 9. The array length may be less than 4.\n",
    "<br>\n",
    "<br>\n",
    "array_front9([1, 2, 9, 3, 4]) → True<br>\n",
    "array_front9([1, 2, 3, 4, 9]) → False<br>\n",
    "array_front9([1, 2, 3, 4, 5]) → False"
   ]
  },
  {
   "cell_type": "code",
   "execution_count": 2,
   "metadata": {},
   "outputs": [],
   "source": [
    "# V1\n",
    "def array_front9_v1(nums):\n",
    "    #Counter used to track the number of 9's\n",
    "  count = 0\n",
    "    #Only use the first four elements\n",
    "  for num in nums[0:4]:\n",
    "    if num == 9:\n",
    "      count += 1\n",
    "    #If the counter is greater than 0, a 9 was found\n",
    "  if count > 0:\n",
    "    return True\n",
    "  else:\n",
    "    return False"
   ]
  },
  {
   "cell_type": "code",
   "execution_count": 3,
   "metadata": {},
   "outputs": [
    {
     "name": "stdout",
     "output_type": "stream",
     "text": [
      "True\n",
      "False\n",
      "False\n"
     ]
    }
   ],
   "source": [
    "print(array_front9_v1([1, 2, 9, 3, 4]))\n",
    "print(array_front9_v1([1, 2, 3, 4, 9]))\n",
    "print(array_front9_v1([1, 2, 3, 4, 5]))"
   ]
  },
  {
   "cell_type": "code",
   "execution_count": 4,
   "metadata": {},
   "outputs": [],
   "source": [
    "# V2\n",
    "def array_front9_v2(nums):\n",
    "  return nums[:4].count(9) > 0"
   ]
  },
  {
   "cell_type": "code",
   "execution_count": 5,
   "metadata": {},
   "outputs": [
    {
     "name": "stdout",
     "output_type": "stream",
     "text": [
      "True\n",
      "False\n",
      "False\n"
     ]
    }
   ],
   "source": [
    "print(array_front9_v2([1, 2, 9, 3, 4]))\n",
    "print(array_front9_v2([1, 2, 3, 4, 9]))\n",
    "print(array_front9_v2([1, 2, 3, 4, 5]))"
   ]
  },
  {
   "cell_type": "code",
   "execution_count": 6,
   "metadata": {},
   "outputs": [],
   "source": [
    "# V3 Line Comprehension\n",
    "def array_front9_v3(nums):\n",
    "  return len([x for x in nums[:4] if x == 9]) > 0"
   ]
  },
  {
   "cell_type": "code",
   "execution_count": 7,
   "metadata": {},
   "outputs": [
    {
     "name": "stdout",
     "output_type": "stream",
     "text": [
      "True\n",
      "False\n",
      "False\n"
     ]
    }
   ],
   "source": [
    "print(array_front9_v3([1, 2, 9, 3, 4]))\n",
    "print(array_front9_v3([1, 2, 3, 4, 9]))\n",
    "print(array_front9_v3([1, 2, 3, 4, 5]))"
   ]
  },
  {
   "cell_type": "markdown",
   "metadata": {},
   "source": [
    "Given 2 strings, a and b, return the number of the positions where they contain the same length 2 substring. So \"xxcaazz\" and \"xxbaaz\" yields 3, since the \"xx\", \"aa\", and \"az\" substrings appear in the same place in both strings.\n",
    "<br>\n",
    "<br>\n",
    "string_match('xxcaazz', 'xxbaaz') → 3<br>\n",
    "string_match('abc', 'abc') → 2<br>\n",
    "string_match('abc', 'axc') → 0"
   ]
  },
  {
   "cell_type": "code",
   "execution_count": 8,
   "metadata": {},
   "outputs": [],
   "source": [
    "def string_match(a, b):\n",
    "  count = 0\n",
    "  for num,char in enumerate(a[:-1]):\n",
    "    if a[num:num+2] == b[num:num+2]:\n",
    "      count += 1\n",
    "  return count"
   ]
  },
  {
   "cell_type": "code",
   "execution_count": 9,
   "metadata": {},
   "outputs": [
    {
     "name": "stdout",
     "output_type": "stream",
     "text": [
      "3\n",
      "2\n",
      "0\n"
     ]
    }
   ],
   "source": [
    "print(string_match('xxcaazz', 'xxbaaz'))\n",
    "print(string_match('abc', 'abc'))\n",
    "print(string_match('abc', 'axc'))"
   ]
  },
  {
   "cell_type": "markdown",
   "metadata": {},
   "source": [
    "Given an array of ints length 3, figure out which is larger, the first or last element in the array, and set all the other elements to be that value. Return the changed array.\n",
    "<br>\n",
    "<br>\n",
    "max_end3([1, 2, 3]) → [3, 3, 3]<br>\n",
    "max_end3([11, 5, 9]) → [11, 11, 11]<br>\n",
    "max_end3([2, 11, 3]) → [3, 3, 3]"
   ]
  },
  {
   "cell_type": "code",
   "execution_count": 10,
   "metadata": {},
   "outputs": [],
   "source": [
    "def max_end3(nums):\n",
    "  return [max([nums[0], nums[-1]])] * 3"
   ]
  },
  {
   "cell_type": "code",
   "execution_count": 11,
   "metadata": {},
   "outputs": [
    {
     "name": "stdout",
     "output_type": "stream",
     "text": [
      "[3, 3, 3]\n",
      "[11, 11, 11]\n",
      "[3, 3, 3]\n"
     ]
    }
   ],
   "source": [
    "print(max_end3([1, 2, 3]))\n",
    "print(max_end3([11, 5, 9]))\n",
    "print(max_end3([2, 11, 3]))"
   ]
  },
  {
   "cell_type": "markdown",
   "metadata": {},
   "source": [
    "Use a list comprehension to make a variable named fruits_with_more_than_two_unique_vowels that contains fruits with more than 2 unique vowels."
   ]
  },
  {
   "cell_type": "code",
   "execution_count": 12,
   "metadata": {},
   "outputs": [],
   "source": [
    "fruits = ['mango', 'kiwi', 'strawberry', 'guava', 'pineapple', 'mandarin orange']"
   ]
  },
  {
   "cell_type": "code",
   "execution_count": 13,
   "metadata": {},
   "outputs": [
    {
     "data": {
      "text/plain": [
       "['pineapple', 'mandarin orange']"
      ]
     },
     "execution_count": 13,
     "metadata": {},
     "output_type": "execute_result"
    }
   ],
   "source": [
    "fruits_with_more_than_two_vowels = \\\n",
    "    [fruit for fruit in fruits if len(set([x for x in fruit if x in 'aeiou'])) > 2]\n",
    "\n",
    "fruits_with_more_than_two_vowels"
   ]
  },
  {
   "cell_type": "markdown",
   "metadata": {},
   "source": [
    "Return the \"centered\" average of an array of ints, which we'll say is the mean average of the values, except ignoring the largest and smallest values in the array. If there are multiple copies of the smallest value, ignore just one copy, and likewise for the largest value. Use int division to produce the final average. You may assume that the array is length 3 or more.\n",
    "<br>\n",
    "<br>\n",
    "centered_average([1, 2, 3, 4, 100]) → 3<br>\n",
    "centered_average([1, 1, 5, 5, 10, 8, 7]) → 5<br>\n",
    "centered_average([-10, -4, -2, -4, -2, 0]) → -3"
   ]
  },
  {
   "cell_type": "code",
   "execution_count": 15,
   "metadata": {},
   "outputs": [],
   "source": [
    "def centered_average(nums):\n",
    "  return sum(sorted(nums)[1:-1]) // (len(nums) - 2)"
   ]
  },
  {
   "cell_type": "code",
   "execution_count": 16,
   "metadata": {},
   "outputs": [
    {
     "name": "stdout",
     "output_type": "stream",
     "text": [
      "3\n",
      "5\n",
      "-3\n"
     ]
    }
   ],
   "source": [
    "print(centered_average([1, 2, 3, 4, 100]))\n",
    "print(centered_average([1, 1, 5, 5, 10, 8, 7]))\n",
    "print(centered_average([-10, -4, -2, -4, -2, 0]))"
   ]
  },
  {
   "cell_type": "markdown",
   "metadata": {},
   "source": [
    "Return the number of even ints in the given array.\n",
    "<br>\n",
    "<br>\n",
    "count_evens([2, 1, 2, 3, 4]) → 3<br>\n",
    "count_evens([2, 2, 0]) → 3<br>\n",
    "count_evens([1, 3, 5]) → 0"
   ]
  },
  {
   "cell_type": "code",
   "execution_count": 17,
   "metadata": {},
   "outputs": [],
   "source": [
    "def count_evens(nums):\n",
    "  return len([x for x in nums if x % 2 == 0])"
   ]
  },
  {
   "cell_type": "code",
   "execution_count": 18,
   "metadata": {},
   "outputs": [
    {
     "name": "stdout",
     "output_type": "stream",
     "text": [
      "3\n",
      "3\n",
      "0\n"
     ]
    }
   ],
   "source": [
    "print(count_evens([2, 1, 2, 3, 4]))\n",
    "print(count_evens([2, 2, 0]))\n",
    "print(count_evens([1, 3, 5]))"
   ]
  },
  {
   "cell_type": "code",
   "execution_count": 19,
   "metadata": {},
   "outputs": [
    {
     "data": {
      "text/plain": [
       "[1, 2, 3]"
      ]
     },
     "execution_count": 19,
     "metadata": {},
     "output_type": "execute_result"
    }
   ],
   "source": [
    "[1,2,3,13,4][:[1,2,3,13,4].index(13)]"
   ]
  },
  {
   "cell_type": "markdown",
   "metadata": {},
   "source": [
    "Return the sum of the numbers in the array, returning 0 for an empty array. Except the number 13 is very unlucky, so it does not count and numbers that come immediately after a 13 also do not count.\n",
    "<br>\n",
    "<br>\n",
    "sum13([1, 2, 2, 1]) → 6<br>\n",
    "sum13([1, 1]) → 2<br>\n",
    "sum13([1, 2, 2, 1, 13]) → 6<br>\n",
    "sum13([13, 1, 13]) → 0<br>\n",
    "sum13([13, 1, 2, 13, 2, 1, 13]) → 3"
   ]
  },
  {
   "cell_type": "code",
   "execution_count": 20,
   "metadata": {},
   "outputs": [],
   "source": [
    "def sum13(nums):\n",
    "  ind_13 = []\n",
    "  for ind,val in enumerate(nums):\n",
    "    if val == 13:\n",
    "      ind_13.append(ind)\n",
    "      ind_13.append(ind+1)\n",
    "  ind_13 = list(set(ind_13))\n",
    "  if len(ind_13) > 0:\n",
    "    while (max(ind_13) == len(nums)):\n",
    "        ind_13.remove(max(ind_13)) \n",
    "  for num in ind_13[::-1]:\n",
    "    nums.pop(num)\n",
    "  return sum(nums)"
   ]
  },
  {
   "cell_type": "code",
   "execution_count": 21,
   "metadata": {},
   "outputs": [
    {
     "name": "stdout",
     "output_type": "stream",
     "text": [
      "6\n",
      "2\n",
      "6\n",
      "0\n",
      "3\n"
     ]
    }
   ],
   "source": [
    "print(sum13([1, 2, 2, 1]))\n",
    "print(sum13([1, 1]))\n",
    "print(sum13([1, 2, 2, 1, 13]))\n",
    "print(sum13([13, 1, 13]))\n",
    "print(sum13([13, 1, 2, 13, 2, 1, 13]))"
   ]
  },
  {
   "cell_type": "markdown",
   "metadata": {},
   "source": [
    "Given an array of ints, return True if the array contains a 2 next to a 2 somewhere.\n",
    "<br>\n",
    "<br>\n",
    "has22([1, 2, 2]) → True<br>\n",
    "has22([1, 2, 1, 2]) → False<br>\n",
    "has22([2, 1, 2]) → False<br>\n",
    "has22([4, 2, 4, 2, 2, 5]) → True"
   ]
  },
  {
   "cell_type": "code",
   "execution_count": 22,
   "metadata": {},
   "outputs": [],
   "source": [
    "def has22(nums):\n",
    "  has_22 = 0\n",
    "  for num, val in enumerate(nums[:-1]):\n",
    "    if nums[num:num+2] == [2,2]:\n",
    "      has_22 += 1\n",
    "      break\n",
    "  return has_22 > 0"
   ]
  },
  {
   "cell_type": "code",
   "execution_count": 23,
   "metadata": {},
   "outputs": [
    {
     "name": "stdout",
     "output_type": "stream",
     "text": [
      "True\n",
      "False\n",
      "False\n",
      "True\n"
     ]
    }
   ],
   "source": [
    "print(has22([1, 2, 2]))\n",
    "print(has22([1, 2, 1, 2]))\n",
    "print(has22([2, 1, 2]))\n",
    "print(has22([4, 2, 4, 2, 2, 5]))"
   ]
  },
  {
   "cell_type": "code",
   "execution_count": null,
   "metadata": {},
   "outputs": [],
   "source": []
  }
 ],
 "metadata": {
  "kernelspec": {
   "display_name": "Python 3",
   "language": "python",
   "name": "python3"
  },
  "language_info": {
   "codemirror_mode": {
    "name": "ipython",
    "version": 3
   },
   "file_extension": ".py",
   "mimetype": "text/x-python",
   "name": "python",
   "nbconvert_exporter": "python",
   "pygments_lexer": "ipython3",
   "version": "3.7.1"
  }
 },
 "nbformat": 4,
 "nbformat_minor": 2
}
