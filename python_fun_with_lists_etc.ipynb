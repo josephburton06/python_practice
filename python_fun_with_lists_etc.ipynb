{
 "cells": [
  {
   "cell_type": "code",
   "execution_count": 1,
   "metadata": {},
   "outputs": [],
   "source": [
    "import numpy as np\n",
    "import pandas as pd\n",
    "import math"
   ]
  },
  {
   "cell_type": "code",
   "execution_count": 2,
   "metadata": {},
   "outputs": [
    {
     "data": {
      "text/plain": [
       "[1, 2, 5, 6]"
      ]
     },
     "execution_count": 2,
     "metadata": {},
     "output_type": "execute_result"
    }
   ],
   "source": [
    "# Write a Python program to find the single number in a list that doesn't occur twice.\n",
    "\n",
    "list_of_nums = [1,2,3,4,4,3,6,7,3,7,5]\n",
    "\n",
    "duplicated_nums = list(set([num for num in list_of_nums if list_of_nums.count(num) > 1]))\n",
    "\n",
    "list(set(list_of_nums) - set(duplicated_nums))"
   ]
  },
  {
   "cell_type": "code",
   "execution_count": 3,
   "metadata": {},
   "outputs": [
    {
     "name": "stdout",
     "output_type": "stream",
     "text": [
      "[4, 5, 7, 11]\n"
     ]
    }
   ],
   "source": [
    "# Write a Python program to find the elements that appear twice in a list.\n",
    "\n",
    "list_of_nums = [1,2,3,4,4,3,6,7,3,7,5,5,9,10,11,11,14]\n",
    "\n",
    "double_nums = list(set([num for num in list_of_nums if list_of_nums.count(num) == 2]))\n",
    "\n",
    "print(sorted(double_nums))"
   ]
  },
  {
   "cell_type": "code",
   "execution_count": 4,
   "metadata": {},
   "outputs": [
    {
     "name": "stdout",
     "output_type": "stream",
     "text": [
      "[1, 2, 3, 4]\n"
     ]
    },
    {
     "data": {
      "text/plain": [
       "10"
      ]
     },
     "execution_count": 4,
     "metadata": {},
     "output_type": "execute_result"
    }
   ],
   "source": [
    "# Write a Python program to sum all the items in a list.\n",
    "\n",
    "nums_to_sum = list(range(1,5))\n",
    "\n",
    "print(nums_to_sum)\n",
    "\n",
    "sum(nums_to_sum)"
   ]
  },
  {
   "cell_type": "code",
   "execution_count": 5,
   "metadata": {},
   "outputs": [
    {
     "data": {
      "text/plain": [
       "24"
      ]
     },
     "execution_count": 5,
     "metadata": {},
     "output_type": "execute_result"
    }
   ],
   "source": [
    "# Write a Python program to multiplies all the items in a list.\n",
    "\n",
    "nums_to_mult = list(range(1,5))\n",
    "\n",
    "np.prod(nums_to_mult)"
   ]
  },
  {
   "cell_type": "code",
   "execution_count": 6,
   "metadata": {},
   "outputs": [
    {
     "data": {
      "text/plain": [
       "7"
      ]
     },
     "execution_count": 6,
     "metadata": {},
     "output_type": "execute_result"
    }
   ],
   "source": [
    "# Write a Python program to get the largest number from a list.\n",
    "\n",
    "list_of_nums = [1,2,3,4,4,3,6,7,3,7,5]\n",
    "\n",
    "max(list_of_nums)"
   ]
  },
  {
   "cell_type": "code",
   "execution_count": 7,
   "metadata": {},
   "outputs": [
    {
     "data": {
      "text/plain": [
       "1"
      ]
     },
     "execution_count": 7,
     "metadata": {},
     "output_type": "execute_result"
    }
   ],
   "source": [
    "# Write a Python program to get the smallest number from a list.\n",
    "\n",
    "min(list_of_nums)"
   ]
  },
  {
   "cell_type": "code",
   "execution_count": 8,
   "metadata": {},
   "outputs": [
    {
     "name": "stdout",
     "output_type": "stream",
     "text": [
      "['aba', '1221', 'bnb']\n"
     ]
    },
    {
     "data": {
      "text/plain": [
       "3"
      ]
     },
     "execution_count": 8,
     "metadata": {},
     "output_type": "execute_result"
    }
   ],
   "source": [
    "# Write a Python program to count the number of strings where the string length is 2 or more\n",
    "\n",
    "# and the first and last character are same from a given list of strings.\n",
    "\n",
    "Sample_List = ['abc', 'xyz', 'aba', '1221', 'aa', 'ag', 'bnb']\n",
    "\n",
    "# Expected Result : 3\n",
    "\n",
    "print([string for string in Sample_List if string[0] == string[-1] and len(string) > 2])\n",
    "\n",
    "len([string for string in Sample_List if string[0] == string[-1] and len(string) > 2])"
   ]
  },
  {
   "cell_type": "code",
   "execution_count": 9,
   "metadata": {},
   "outputs": [
    {
     "name": "stdout",
     "output_type": "stream",
     "text": [
      "It's a square.\n"
     ]
    }
   ],
   "source": [
    "# Write a Python program to check if a number is a perfect square.\n",
    "\n",
    "number_check_for_squares = 25\n",
    "\n",
    "divisors = list(range(1,(number_check_for_squares + 1)))\n",
    "\n",
    "check_for_square = [divisor for divisor in divisors if number_check_for_squares / divisor == divisor]\n",
    "\n",
    "if check_for_square:\n",
    "\n",
    "    print('It\\'s a square.')\n",
    "\n",
    "else:\n",
    "\n",
    "    print('Not a square.')"
   ]
  },
  {
   "cell_type": "code",
   "execution_count": 10,
   "metadata": {},
   "outputs": [
    {
     "name": "stdout",
     "output_type": "stream",
     "text": [
      "2^4 = 16\n"
     ]
    }
   ],
   "source": [
    "# Write a Python program to check if an integer is the power of another integer.\n",
    "\n",
    "number_check_for_power = 16\n",
    "\n",
    "power_of = 2\n",
    "\n",
    "to_the_power = list(range(1,number_check_for_power))\n",
    "\n",
    "for num in to_the_power:\n",
    "\n",
    "    if power_of ** num == number_check_for_power:\n",
    "\n",
    "        print(str(power_of) + '^' + str(num) + ' = ' + str(number_check_for_power))\n",
    "\n",
    "    pass"
   ]
  },
  {
   "cell_type": "code",
   "execution_count": 11,
   "metadata": {},
   "outputs": [
    {
     "name": "stdout",
     "output_type": "stream",
     "text": [
      "[1, 2, 3, 4, 5, 6, 7, 9, 10, 11, 12, 13, 15, 16, 17, 18, 20, 21, 22, 23, 24]\n"
     ]
    },
    {
     "data": {
      "text/plain": [
       "{8, 14, 19}"
      ]
     },
     "execution_count": 11,
     "metadata": {},
     "output_type": "execute_result"
    }
   ],
   "source": [
    "# Write a Python program to find a missing number from a list.\n",
    "\n",
    "list_of_numbers = list(range(1,25))\n",
    "\n",
    "list_of_final_number = list_of_numbers[:7] + list_of_numbers[8:13] + list_of_numbers[14:18] + list_of_numbers[19:]\n",
    "\n",
    "print(list_of_final_number)\n",
    "\n",
    "set(range(1,25)) - set(list_of_final_number)"
   ]
  },
  {
   "cell_type": "code",
   "execution_count": null,
   "metadata": {},
   "outputs": [],
   "source": []
  }
 ],
 "metadata": {
  "kernelspec": {
   "display_name": "Python 3",
   "language": "python",
   "name": "python3"
  },
  "language_info": {
   "codemirror_mode": {
    "name": "ipython",
    "version": 3
   },
   "file_extension": ".py",
   "mimetype": "text/x-python",
   "name": "python",
   "nbconvert_exporter": "python",
   "pygments_lexer": "ipython3",
   "version": "3.7.1"
  }
 },
 "nbformat": 4,
 "nbformat_minor": 2
}
